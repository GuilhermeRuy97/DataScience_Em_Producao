{
  "nbformat": 4,
  "nbformat_minor": 0,
  "metadata": {
    "colab": {
      "name": "data_science_em_producao.ipynb",
      "provenance": [],
      "collapsed_sections": [
        "m9yA3BdTW6Dq",
        "Q8Mnj8c5W-Qk",
        "n_adXn1NYQHG",
        "N5EAHpb_YQUv",
        "onN3Xf9ZYREI",
        "YGM8evPlYRRU",
        "reUNag0-YRcD",
        "Bx9f7RqAx6CW",
        "3kA806qD4Eeh",
        "Zx2N3yDvYP2N",
        "Zce5gxvzcqcy",
        "8n9dj3r6zU1j",
        "blt4pdYjzX-b",
        "nATqN3fpzZ1B",
        "XlumoNVS2BFL",
        "zDgZkz2rSqEW",
        "PP1OJIO2sndh",
        "p8xvYgaes7Kj"
      ],
      "authorship_tag": "ABX9TyN8QDdPrXGKYT7fU9aIx4qv",
      "include_colab_link": true
    },
    "kernelspec": {
      "name": "python3",
      "display_name": "Python 3"
    }
  },
  "cells": [
    {
      "cell_type": "markdown",
      "metadata": {
        "id": "view-in-github",
        "colab_type": "text"
      },
      "source": [
        "<a href=\"https://colab.research.google.com/github/GuilhermeRuy97/DataScience_Em_Producao/blob/master/data_science_em_producao.ipynb\" target=\"_parent\"><img src=\"https://colab.research.google.com/assets/colab-badge.svg\" alt=\"Open In Colab\"/></a>"
      ]
    },
    {
      "cell_type": "markdown",
      "metadata": {
        "id": "DHOt5tw2Mzhh"
      },
      "source": [
        "-Store Sales Prediction\r\n"
      ]
    },
    {
      "cell_type": "markdown",
      "metadata": {
        "id": "m9yA3BdTW6Dq"
      },
      "source": [
        "## 0.0 IMPORTS"
      ]
    },
    {
      "cell_type": "code",
      "metadata": {
        "id": "MR5X18iZj_6U",
        "colab": {
          "base_uri": "https://localhost:8080/"
        },
        "outputId": "44297956-2ae2-44b2-eadf-10fcaf97a7d6"
      },
      "source": [
        "!pip install inflection"
      ],
      "execution_count": 48,
      "outputs": [
        {
          "output_type": "stream",
          "text": [
            "Requirement already satisfied: inflection in /usr/local/lib/python3.7/dist-packages (0.5.1)\n"
          ],
          "name": "stdout"
        }
      ]
    },
    {
      "cell_type": "markdown",
      "metadata": {
        "id": "EK9ejN3ZYCmg"
      },
      "source": [
        "### 0.1 Helper Functions"
      ]
    },
    {
      "cell_type": "code",
      "metadata": {
        "id": "AcqppZm5Ys1X"
      },
      "source": [
        "import pandas as pd\r\n",
        "import inflection\r\n",
        "import math\r\n",
        "import numpy as np\r\n",
        "import seaborn as sns\r\n",
        "import matplotlib.pyplot as plt\r\n",
        "import datetime\r\n",
        "import matplotlib\r\n",
        "import matplotlib.gridspec as gridspec\r\n",
        "\r\n",
        "from IPython.core.display import HTML\r\n",
        "from IPython.display import Image"
      ],
      "execution_count": 103,
      "outputs": []
    },
    {
      "cell_type": "markdown",
      "metadata": {
        "id": "4_rirL9JYEx8"
      },
      "source": [
        "### 0.2 Loading Data"
      ]
    },
    {
      "cell_type": "code",
      "metadata": {
        "id": "DQeaFj4ZYfV6"
      },
      "source": [
        "df_sales_raw = pd.read_csv( 'train.csv', low_memory = False)\r\n",
        "df_store_raw = pd.read_csv( 'store.csv', low_memory = False)\r\n",
        "\r\n",
        "#Fazendo um merge dos arquivos guardando em \"store\"\r\n",
        "\r\n",
        "df_raw = pd.merge( df_sales_raw, df_store_raw, how = 'left', on = 'Store' )"
      ],
      "execution_count": 50,
      "outputs": []
    },
    {
      "cell_type": "code",
      "metadata": {
        "colab": {
          "base_uri": "https://localhost:8080/",
          "height": 0
        },
        "id": "42AAwWAIikre",
        "outputId": "e21f23b6-351b-4f03-e0a1-44b4cc2f1040"
      },
      "source": [
        "df_raw.sample()"
      ],
      "execution_count": 51,
      "outputs": [
        {
          "output_type": "execute_result",
          "data": {
            "text/html": [
              "<div>\n",
              "<style scoped>\n",
              "    .dataframe tbody tr th:only-of-type {\n",
              "        vertical-align: middle;\n",
              "    }\n",
              "\n",
              "    .dataframe tbody tr th {\n",
              "        vertical-align: top;\n",
              "    }\n",
              "\n",
              "    .dataframe thead th {\n",
              "        text-align: right;\n",
              "    }\n",
              "</style>\n",
              "<table border=\"1\" class=\"dataframe\">\n",
              "  <thead>\n",
              "    <tr style=\"text-align: right;\">\n",
              "      <th></th>\n",
              "      <th>Store</th>\n",
              "      <th>DayOfWeek</th>\n",
              "      <th>Date</th>\n",
              "      <th>Sales</th>\n",
              "      <th>Customers</th>\n",
              "      <th>Open</th>\n",
              "      <th>Promo</th>\n",
              "      <th>StateHoliday</th>\n",
              "      <th>SchoolHoliday</th>\n",
              "      <th>StoreType</th>\n",
              "      <th>Assortment</th>\n",
              "      <th>CompetitionDistance</th>\n",
              "      <th>CompetitionOpenSinceMonth</th>\n",
              "      <th>CompetitionOpenSinceYear</th>\n",
              "      <th>Promo2</th>\n",
              "      <th>Promo2SinceWeek</th>\n",
              "      <th>Promo2SinceYear</th>\n",
              "      <th>PromoInterval</th>\n",
              "    </tr>\n",
              "  </thead>\n",
              "  <tbody>\n",
              "    <tr>\n",
              "      <th>695077</th>\n",
              "      <td>103</td>\n",
              "      <td>3</td>\n",
              "      <td>2013-10-16</td>\n",
              "      <td>3378</td>\n",
              "      <td>338</td>\n",
              "      <td>1</td>\n",
              "      <td>0</td>\n",
              "      <td>0</td>\n",
              "      <td>0</td>\n",
              "      <td>d</td>\n",
              "      <td>c</td>\n",
              "      <td>5210.0</td>\n",
              "      <td>5.0</td>\n",
              "      <td>2015.0</td>\n",
              "      <td>0</td>\n",
              "      <td>NaN</td>\n",
              "      <td>NaN</td>\n",
              "      <td>NaN</td>\n",
              "    </tr>\n",
              "  </tbody>\n",
              "</table>\n",
              "</div>"
            ],
            "text/plain": [
              "        Store  DayOfWeek  ... Promo2SinceYear  PromoInterval\n",
              "695077    103          3  ...             NaN            NaN\n",
              "\n",
              "[1 rows x 18 columns]"
            ]
          },
          "metadata": {
            "tags": []
          },
          "execution_count": 51
        }
      ]
    },
    {
      "cell_type": "markdown",
      "metadata": {
        "id": "Q8Mnj8c5W-Qk"
      },
      "source": [
        "# 1.0 PASSO 01 - DESCRICAO DOS DADOS"
      ]
    },
    {
      "cell_type": "code",
      "metadata": {
        "id": "N1FoLPXYjT-Y"
      },
      "source": [
        "#É interessante fazer uma cópia dos dados ao mudar de sessão para resgatá-los no futuro.\r\n",
        "\r\n",
        "df1 = df_raw.copy()"
      ],
      "execution_count": 52,
      "outputs": []
    },
    {
      "cell_type": "markdown",
      "metadata": {
        "id": "YScQU4U4YMNR"
      },
      "source": [
        "### 1.1 Rename Columns"
      ]
    },
    {
      "cell_type": "code",
      "metadata": {
        "colab": {
          "base_uri": "https://localhost:8080/"
        },
        "id": "MfGYlH7VjSir",
        "outputId": "b6604224-b5b5-4925-c3b0-895355c6869d"
      },
      "source": [
        "#Nem sempre os dados vem com nomes adequados para o desenvolvimento dos algoritmos;\r\n",
        "#Neste caso é mais controlado pois são dados do kaggle.\r\n",
        "\r\n",
        "df_raw.columns"
      ],
      "execution_count": 53,
      "outputs": [
        {
          "output_type": "execute_result",
          "data": {
            "text/plain": [
              "Index(['Store', 'DayOfWeek', 'Date', 'Sales', 'Customers', 'Open', 'Promo',\n",
              "       'StateHoliday', 'SchoolHoliday', 'StoreType', 'Assortment',\n",
              "       'CompetitionDistance', 'CompetitionOpenSinceMonth',\n",
              "       'CompetitionOpenSinceYear', 'Promo2', 'Promo2SinceWeek',\n",
              "       'Promo2SinceYear', 'PromoInterval'],\n",
              "      dtype='object')"
            ]
          },
          "metadata": {
            "tags": []
          },
          "execution_count": 53
        }
      ]
    },
    {
      "cell_type": "code",
      "metadata": {
        "id": "Is5aMWqNjiHe"
      },
      "source": [
        "#Transformando os dados de camel case para snake case\r\n",
        "\r\n",
        "#Colunas originais\r\n",
        "\r\n",
        "cols_old = ['Store', 'DayOfWeek', 'Date', 'Sales', 'Customers', 'Open', 'Promo',\r\n",
        "            'StateHoliday', 'SchoolHoliday', 'StoreType', 'Assortment',\r\n",
        "            'CompetitionDistance', 'CompetitionOpenSinceMonth',\r\n",
        "            'CompetitionOpenSinceYear', 'Promo2', 'Promo2SinceWeek',\r\n",
        "            'Promo2SinceYear', 'PromoInterval']\r\n",
        "\r\n",
        "#Mudando coluna para snake case\r\n",
        "\r\n",
        "snakecase = lambda x: inflection.underscore( x )\r\n",
        "\r\n",
        "cols_new = list( map( snakecase, cols_old ) )\r\n",
        "\r\n",
        "#Rename\r\n",
        "\r\n",
        "df1.columns = cols_new"
      ],
      "execution_count": 54,
      "outputs": []
    },
    {
      "cell_type": "code",
      "metadata": {
        "colab": {
          "base_uri": "https://localhost:8080/"
        },
        "id": "B6wOqT3Kkd0t",
        "outputId": "57325d8e-2c41-4ce5-8214-8dedbd236b1d"
      },
      "source": [
        "df1.columns"
      ],
      "execution_count": 55,
      "outputs": [
        {
          "output_type": "execute_result",
          "data": {
            "text/plain": [
              "Index(['store', 'day_of_week', 'date', 'sales', 'customers', 'open', 'promo',\n",
              "       'state_holiday', 'school_holiday', 'store_type', 'assortment',\n",
              "       'competition_distance', 'competition_open_since_month',\n",
              "       'competition_open_since_year', 'promo2', 'promo2_since_week',\n",
              "       'promo2_since_year', 'promo_interval'],\n",
              "      dtype='object')"
            ]
          },
          "metadata": {
            "tags": []
          },
          "execution_count": 55
        }
      ]
    },
    {
      "cell_type": "markdown",
      "metadata": {
        "id": "CTTqcg8xYOYm"
      },
      "source": [
        "### 1.2 Data Dimensions"
      ]
    },
    {
      "cell_type": "code",
      "metadata": {
        "colab": {
          "base_uri": "https://localhost:8080/"
        },
        "id": "SWAzHDsTvguz",
        "outputId": "a606c71b-62ff-4f1c-8a70-4c621c3a1925"
      },
      "source": [
        "print( f'Number of Rows: { df1.shape[0] }')\r\n",
        "print( f'Number of Columns: { df1.shape[1] }')\r\n"
      ],
      "execution_count": 56,
      "outputs": [
        {
          "output_type": "stream",
          "text": [
            "Number of Rows: 1017209\n",
            "Number of Columns: 18\n"
          ],
          "name": "stdout"
        }
      ]
    },
    {
      "cell_type": "markdown",
      "metadata": {
        "id": "n_adXn1NYQHG"
      },
      "source": [
        "### 1.3 Data Types"
      ]
    },
    {
      "cell_type": "code",
      "metadata": {
        "colab": {
          "base_uri": "https://localhost:8080/"
        },
        "id": "5MnMhfRTwhvk",
        "outputId": "6b25f86e-5f1b-4296-cf23-3d30160e175b"
      },
      "source": [
        "df1.dtypes"
      ],
      "execution_count": 57,
      "outputs": [
        {
          "output_type": "execute_result",
          "data": {
            "text/plain": [
              "store                             int64\n",
              "day_of_week                       int64\n",
              "date                             object\n",
              "sales                             int64\n",
              "customers                         int64\n",
              "open                              int64\n",
              "promo                             int64\n",
              "state_holiday                    object\n",
              "school_holiday                    int64\n",
              "store_type                       object\n",
              "assortment                       object\n",
              "competition_distance            float64\n",
              "competition_open_since_month    float64\n",
              "competition_open_since_year     float64\n",
              "promo2                            int64\n",
              "promo2_since_week               float64\n",
              "promo2_since_year               float64\n",
              "promo_interval                   object\n",
              "dtype: object"
            ]
          },
          "metadata": {
            "tags": []
          },
          "execution_count": 57
        }
      ]
    },
    {
      "cell_type": "code",
      "metadata": {
        "colab": {
          "base_uri": "https://localhost:8080/"
        },
        "id": "ZJnMhSQQxbc9",
        "outputId": "e597f187-8efa-42f6-fdd3-06c0c4bc319c"
      },
      "source": [
        "#Transformando a data de object para data\r\n",
        "\r\n",
        "df1['date'] = pd.to_datetime(df1['date'])\r\n",
        "df1.dtypes"
      ],
      "execution_count": 58,
      "outputs": [
        {
          "output_type": "execute_result",
          "data": {
            "text/plain": [
              "store                                    int64\n",
              "day_of_week                              int64\n",
              "date                            datetime64[ns]\n",
              "sales                                    int64\n",
              "customers                                int64\n",
              "open                                     int64\n",
              "promo                                    int64\n",
              "state_holiday                           object\n",
              "school_holiday                           int64\n",
              "store_type                              object\n",
              "assortment                              object\n",
              "competition_distance                   float64\n",
              "competition_open_since_month           float64\n",
              "competition_open_since_year            float64\n",
              "promo2                                   int64\n",
              "promo2_since_week                      float64\n",
              "promo2_since_year                      float64\n",
              "promo_interval                          object\n",
              "dtype: object"
            ]
          },
          "metadata": {
            "tags": []
          },
          "execution_count": 58
        }
      ]
    },
    {
      "cell_type": "markdown",
      "metadata": {
        "id": "N5EAHpb_YQUv"
      },
      "source": [
        "### 1.4 Check NA"
      ]
    },
    {
      "cell_type": "code",
      "metadata": {
        "colab": {
          "base_uri": "https://localhost:8080/"
        },
        "id": "IMDlUiGmzMhU",
        "outputId": "d5adeef4-7dfd-4321-bc77-c675fb80a138"
      },
      "source": [
        "#Mostrando a soma de todas as linhas que tenha pelo menos 1 na\r\n",
        "\r\n",
        "df1.isna().sum()"
      ],
      "execution_count": 59,
      "outputs": [
        {
          "output_type": "execute_result",
          "data": {
            "text/plain": [
              "store                                0\n",
              "day_of_week                          0\n",
              "date                                 0\n",
              "sales                                0\n",
              "customers                            0\n",
              "open                                 0\n",
              "promo                                0\n",
              "state_holiday                        0\n",
              "school_holiday                       0\n",
              "store_type                           0\n",
              "assortment                           0\n",
              "competition_distance              2642\n",
              "competition_open_since_month    323348\n",
              "competition_open_since_year     323348\n",
              "promo2                               0\n",
              "promo2_since_week               508031\n",
              "promo2_since_year               508031\n",
              "promo_interval                  508031\n",
              "dtype: int64"
            ]
          },
          "metadata": {
            "tags": []
          },
          "execution_count": 59
        }
      ]
    },
    {
      "cell_type": "markdown",
      "metadata": {
        "id": "onN3Xf9ZYREI"
      },
      "source": [
        "### 1.5 Fillout NA"
      ]
    },
    {
      "cell_type": "code",
      "metadata": {
        "colab": {
          "base_uri": "https://localhost:8080/"
        },
        "id": "SalV_THQgOj5",
        "outputId": "cecad5a0-bc07-4f1d-bf1c-8506dceb6823"
      },
      "source": [
        "df1['competition_distance'].max"
      ],
      "execution_count": 60,
      "outputs": [
        {
          "output_type": "execute_result",
          "data": {
            "text/plain": [
              "<bound method Series.max of 0           1270.0\n",
              "1            570.0\n",
              "2          14130.0\n",
              "3            620.0\n",
              "4          29910.0\n",
              "            ...   \n",
              "1017204     1900.0\n",
              "1017205     1880.0\n",
              "1017206     9260.0\n",
              "1017207      870.0\n",
              "1017208     5350.0\n",
              "Name: competition_distance, Length: 1017209, dtype: float64>"
            ]
          },
          "metadata": {
            "tags": []
          },
          "execution_count": 60
        }
      ]
    },
    {
      "cell_type": "code",
      "metadata": {
        "id": "Gu7jgPyEejna"
      },
      "source": [
        "# competition_distance\r\n",
        "# Trocando o valor em NA pelo maior valor:\r\n",
        "df1['competition_distance'] = df1['competition_distance'].apply( lambda x: 200000.0 if math.isnan(x) else x)\r\n",
        "\r\n",
        "# competition_open_since_month    \r\n",
        "# Trocando a data de \"competição desde o mes\" pela data de venda da ultima compra\r\n",
        "df1['competition_open_since_month'] = df1.apply( lambda x: x['date'].month if math.isnan( x['competition_open_since_month'] ) else x['competition_open_since_month'], axis = 1)\r\n",
        "\r\n",
        "# competition_open_since_year     \r\n",
        "# Mesmo processo do mes para o ano\r\n",
        "df1['competition_open_since_year'] = df1.apply( lambda x: x['date'].year if math.isnan( x['competition_open_since_year'] ) else x['competition_open_since_year'], axis = 1)\r\n",
        "\r\n",
        "# promo2                               \r\n",
        "# promo2_since_week               \r\n",
        "df1['promo2_since_week'] = df1.apply( lambda x: x['date'].week if math.isnan( x['promo2_since_week'] ) else x['promo2_since_week'], axis = 1)\r\n",
        "\r\n",
        "# promo2_since_year               \r\n",
        "df1['promo2_since_year'] = df1.apply( lambda x: x['date'].year if math.isnan( x['promo2_since_year'] ) else x['promo2_since_year'], axis = 1)\r\n",
        "\r\n",
        "# promo_interval                  \r\n",
        "month_map = {\r\n",
        "1: 'Jan', \r\n",
        "2: 'Feb', \r\n",
        "3: 'Mar', \r\n",
        "4: 'Apr', \r\n",
        "5: 'May', \r\n",
        "6: 'Jun', \r\n",
        "7: 'Jul', \r\n",
        "8: 'Ago', \r\n",
        "9: 'Sep', \r\n",
        "10: 'Oct', \r\n",
        "11: 'Nov', \r\n",
        "12: 'Dec' }\r\n",
        "\r\n",
        "df1['promo_interval'].fillna(0, inplace = True)\r\n",
        "\r\n",
        "df1['month_map'] = df1['date'].dt.month.map( month_map )\r\n",
        "\r\n",
        "df1['is_promo'] = df1[['promo_interval', 'month_map']].apply( lambda x: 0 if x['promo_interval'] == 0 else 1 if x['month_map'] in x['promo_interval'].split(',') else 0, axis = 1 )"
      ],
      "execution_count": 61,
      "outputs": []
    },
    {
      "cell_type": "code",
      "metadata": {
        "colab": {
          "base_uri": "https://localhost:8080/"
        },
        "id": "y1hOA0Y6ht4O",
        "outputId": "6eb58803-fb7a-40b6-b4c2-b4d7f37fcbaa"
      },
      "source": [
        "#Repare que a soma agora de NA's é 0\r\n",
        "\r\n",
        "df1.isna().sum()"
      ],
      "execution_count": 62,
      "outputs": [
        {
          "output_type": "execute_result",
          "data": {
            "text/plain": [
              "store                           0\n",
              "day_of_week                     0\n",
              "date                            0\n",
              "sales                           0\n",
              "customers                       0\n",
              "open                            0\n",
              "promo                           0\n",
              "state_holiday                   0\n",
              "school_holiday                  0\n",
              "store_type                      0\n",
              "assortment                      0\n",
              "competition_distance            0\n",
              "competition_open_since_month    0\n",
              "competition_open_since_year     0\n",
              "promo2                          0\n",
              "promo2_since_week               0\n",
              "promo2_since_year               0\n",
              "promo_interval                  0\n",
              "month_map                       0\n",
              "is_promo                        0\n",
              "dtype: int64"
            ]
          },
          "metadata": {
            "tags": []
          },
          "execution_count": 62
        }
      ]
    },
    {
      "cell_type": "markdown",
      "metadata": {
        "id": "YGM8evPlYRRU"
      },
      "source": [
        "### 1.6 Change Types"
      ]
    },
    {
      "cell_type": "code",
      "metadata": {
        "id": "-8FwGwhiuKkc"
      },
      "source": [
        "#Depois de se fazer alterações em colunas, é importante refazer a busca dos tipos\r\n",
        "#para conferir se o tipo original não foi alterado."
      ],
      "execution_count": 63,
      "outputs": []
    },
    {
      "cell_type": "code",
      "metadata": {
        "id": "VCcpYJyiuQdK",
        "colab": {
          "base_uri": "https://localhost:8080/"
        },
        "outputId": "67f31b48-b391-4278-9fdf-a162bae258b2"
      },
      "source": [
        "df1.dtypes\r\n",
        "\r\n",
        "#Repare que o competition_sincer_week é um float"
      ],
      "execution_count": 64,
      "outputs": [
        {
          "output_type": "execute_result",
          "data": {
            "text/plain": [
              "store                                    int64\n",
              "day_of_week                              int64\n",
              "date                            datetime64[ns]\n",
              "sales                                    int64\n",
              "customers                                int64\n",
              "open                                     int64\n",
              "promo                                    int64\n",
              "state_holiday                           object\n",
              "school_holiday                           int64\n",
              "store_type                              object\n",
              "assortment                              object\n",
              "competition_distance                   float64\n",
              "competition_open_since_month           float64\n",
              "competition_open_since_year            float64\n",
              "promo2                                   int64\n",
              "promo2_since_week                      float64\n",
              "promo2_since_year                      float64\n",
              "promo_interval                          object\n",
              "month_map                               object\n",
              "is_promo                                 int64\n",
              "dtype: object"
            ]
          },
          "metadata": {
            "tags": []
          },
          "execution_count": 64
        }
      ]
    },
    {
      "cell_type": "code",
      "metadata": {
        "id": "sfh753_CuZhm"
      },
      "source": [
        "df1['competition_open_since_month'] = df1['competition_open_since_month'].astype(int)\r\n",
        "df1['competition_open_since_year'] = df1['competition_open_since_year'].astype(int)\r\n",
        "df1['promo2_since_week'] = df1['promo2_since_week'].astype(int)\r\n",
        "df1['promo2_since_year'] = df1['promo2_since_year'].astype(int)"
      ],
      "execution_count": 65,
      "outputs": []
    },
    {
      "cell_type": "code",
      "metadata": {
        "id": "bqSgTbsduhxA",
        "colab": {
          "base_uri": "https://localhost:8080/"
        },
        "outputId": "7a2995f1-e654-4c92-eff2-fc7bcad8368b"
      },
      "source": [
        "df1.dtypes"
      ],
      "execution_count": 66,
      "outputs": [
        {
          "output_type": "execute_result",
          "data": {
            "text/plain": [
              "store                                    int64\n",
              "day_of_week                              int64\n",
              "date                            datetime64[ns]\n",
              "sales                                    int64\n",
              "customers                                int64\n",
              "open                                     int64\n",
              "promo                                    int64\n",
              "state_holiday                           object\n",
              "school_holiday                           int64\n",
              "store_type                              object\n",
              "assortment                              object\n",
              "competition_distance                   float64\n",
              "competition_open_since_month             int64\n",
              "competition_open_since_year              int64\n",
              "promo2                                   int64\n",
              "promo2_since_week                        int64\n",
              "promo2_since_year                        int64\n",
              "promo_interval                          object\n",
              "month_map                               object\n",
              "is_promo                                 int64\n",
              "dtype: object"
            ]
          },
          "metadata": {
            "tags": []
          },
          "execution_count": 66
        }
      ]
    },
    {
      "cell_type": "markdown",
      "metadata": {
        "id": "reUNag0-YRcD"
      },
      "source": [
        "### 1.7 Descriptive Statistical"
      ]
    },
    {
      "cell_type": "code",
      "metadata": {
        "id": "1F8WIJOJxHCg"
      },
      "source": [
        "#Selecionando os dados numéricos e categóricos\r\n",
        "\r\n",
        "num_attributes = df1.select_dtypes( include = ['int64', 'float64'])\r\n",
        "cat_attributes = df1.select_dtypes( exclude = ['int64', 'float64', 'datetime64[ns]'] )"
      ],
      "execution_count": 67,
      "outputs": []
    },
    {
      "cell_type": "code",
      "metadata": {
        "id": "UKV4cD5Kxrxe",
        "colab": {
          "base_uri": "https://localhost:8080/",
          "height": 0
        },
        "outputId": "8d8a83f9-ecc4-4801-a868-8350e577e462"
      },
      "source": [
        "num_attributes.sample(2)"
      ],
      "execution_count": 68,
      "outputs": [
        {
          "output_type": "execute_result",
          "data": {
            "text/html": [
              "<div>\n",
              "<style scoped>\n",
              "    .dataframe tbody tr th:only-of-type {\n",
              "        vertical-align: middle;\n",
              "    }\n",
              "\n",
              "    .dataframe tbody tr th {\n",
              "        vertical-align: top;\n",
              "    }\n",
              "\n",
              "    .dataframe thead th {\n",
              "        text-align: right;\n",
              "    }\n",
              "</style>\n",
              "<table border=\"1\" class=\"dataframe\">\n",
              "  <thead>\n",
              "    <tr style=\"text-align: right;\">\n",
              "      <th></th>\n",
              "      <th>store</th>\n",
              "      <th>day_of_week</th>\n",
              "      <th>sales</th>\n",
              "      <th>customers</th>\n",
              "      <th>open</th>\n",
              "      <th>promo</th>\n",
              "      <th>school_holiday</th>\n",
              "      <th>competition_distance</th>\n",
              "      <th>competition_open_since_month</th>\n",
              "      <th>competition_open_since_year</th>\n",
              "      <th>promo2</th>\n",
              "      <th>promo2_since_week</th>\n",
              "      <th>promo2_since_year</th>\n",
              "      <th>is_promo</th>\n",
              "    </tr>\n",
              "  </thead>\n",
              "  <tbody>\n",
              "    <tr>\n",
              "      <th>267937</th>\n",
              "      <td>843</td>\n",
              "      <td>5</td>\n",
              "      <td>12700</td>\n",
              "      <td>1322</td>\n",
              "      <td>1</td>\n",
              "      <td>1</td>\n",
              "      <td>0</td>\n",
              "      <td>60.0</td>\n",
              "      <td>4</td>\n",
              "      <td>2006</td>\n",
              "      <td>0</td>\n",
              "      <td>48</td>\n",
              "      <td>2014</td>\n",
              "      <td>0</td>\n",
              "    </tr>\n",
              "    <tr>\n",
              "      <th>312128</th>\n",
              "      <td>15</td>\n",
              "      <td>6</td>\n",
              "      <td>5372</td>\n",
              "      <td>590</td>\n",
              "      <td>1</td>\n",
              "      <td>0</td>\n",
              "      <td>0</td>\n",
              "      <td>4110.0</td>\n",
              "      <td>3</td>\n",
              "      <td>2010</td>\n",
              "      <td>1</td>\n",
              "      <td>14</td>\n",
              "      <td>2011</td>\n",
              "      <td>1</td>\n",
              "    </tr>\n",
              "  </tbody>\n",
              "</table>\n",
              "</div>"
            ],
            "text/plain": [
              "        store  day_of_week  ...  promo2_since_year  is_promo\n",
              "267937    843            5  ...               2014         0\n",
              "312128     15            6  ...               2011         1\n",
              "\n",
              "[2 rows x 14 columns]"
            ]
          },
          "metadata": {
            "tags": []
          },
          "execution_count": 68
        }
      ]
    },
    {
      "cell_type": "code",
      "metadata": {
        "id": "CP-jdBW_xwXz",
        "colab": {
          "base_uri": "https://localhost:8080/",
          "height": 0
        },
        "outputId": "738de657-a392-4263-9139-d283eab7d6ca"
      },
      "source": [
        "cat_attributes.sample(2)"
      ],
      "execution_count": 69,
      "outputs": [
        {
          "output_type": "execute_result",
          "data": {
            "text/html": [
              "<div>\n",
              "<style scoped>\n",
              "    .dataframe tbody tr th:only-of-type {\n",
              "        vertical-align: middle;\n",
              "    }\n",
              "\n",
              "    .dataframe tbody tr th {\n",
              "        vertical-align: top;\n",
              "    }\n",
              "\n",
              "    .dataframe thead th {\n",
              "        text-align: right;\n",
              "    }\n",
              "</style>\n",
              "<table border=\"1\" class=\"dataframe\">\n",
              "  <thead>\n",
              "    <tr style=\"text-align: right;\">\n",
              "      <th></th>\n",
              "      <th>state_holiday</th>\n",
              "      <th>store_type</th>\n",
              "      <th>assortment</th>\n",
              "      <th>promo_interval</th>\n",
              "      <th>month_map</th>\n",
              "    </tr>\n",
              "  </thead>\n",
              "  <tbody>\n",
              "    <tr>\n",
              "      <th>331181</th>\n",
              "      <td>0</td>\n",
              "      <td>a</td>\n",
              "      <td>a</td>\n",
              "      <td>0</td>\n",
              "      <td>Sep</td>\n",
              "    </tr>\n",
              "    <tr>\n",
              "      <th>660250</th>\n",
              "      <td>0</td>\n",
              "      <td>a</td>\n",
              "      <td>a</td>\n",
              "      <td>Feb,May,Aug,Nov</td>\n",
              "      <td>Nov</td>\n",
              "    </tr>\n",
              "  </tbody>\n",
              "</table>\n",
              "</div>"
            ],
            "text/plain": [
              "       state_holiday store_type assortment   promo_interval month_map\n",
              "331181             0          a          a                0       Sep\n",
              "660250             0          a          a  Feb,May,Aug,Nov       Nov"
            ]
          },
          "metadata": {
            "tags": []
          },
          "execution_count": 69
        }
      ]
    },
    {
      "cell_type": "markdown",
      "metadata": {
        "id": "Bx9f7RqAx6CW"
      },
      "source": [
        "#### 1.7.1 Numerical Attributes"
      ]
    },
    {
      "cell_type": "code",
      "metadata": {
        "id": "Hf0VePHVvERN"
      },
      "source": [
        "# Central Tendency - mean, median\r\n",
        "ct1 = pd.DataFrame( num_attributes.apply( np.mean ) ).T\r\n",
        "ct2 = pd.DataFrame( num_attributes.apply( np.median ) ).T\r\n",
        "\r\n",
        "# Dispersion - std, min, maax, range, skew, kurtosis\r\n",
        "d1 = pd.DataFrame( num_attributes.apply( np.std ) ).T\r\n",
        "d2 = pd.DataFrame( num_attributes.apply( min ) ).T\r\n",
        "d3 = pd.DataFrame( num_attributes.apply( max ) ).T\r\n",
        "d4 = pd.DataFrame( num_attributes.apply( lambda x: x.max() - x.min() ) ).T\r\n",
        "d5 = pd.DataFrame( num_attributes.apply( lambda x: x.skew() ) ).T\r\n",
        "d6 = pd.DataFrame( num_attributes.apply( lambda x: x.kurtosis() ) ).T\r\n",
        "\r\n",
        "# Concatenete\r\n",
        "m = pd.concat( [d2, d3, d4, ct1, ct2, d1, d5, d6] ).T.reset_index()\r\n",
        "m.columns = ( ['attributes', 'min', 'max', 'range', 'mean', 'median', 'std',\r\n",
        "            'skew', 'kurtosis'] )"
      ],
      "execution_count": 70,
      "outputs": []
    },
    {
      "cell_type": "code",
      "metadata": {
        "id": "xcVEdt5F0cRa",
        "colab": {
          "base_uri": "https://localhost:8080/",
          "height": 0
        },
        "outputId": "597de9e8-893a-4b70-a1a7-430dc21dd90f"
      },
      "source": [
        "m"
      ],
      "execution_count": 71,
      "outputs": [
        {
          "output_type": "execute_result",
          "data": {
            "text/html": [
              "<div>\n",
              "<style scoped>\n",
              "    .dataframe tbody tr th:only-of-type {\n",
              "        vertical-align: middle;\n",
              "    }\n",
              "\n",
              "    .dataframe tbody tr th {\n",
              "        vertical-align: top;\n",
              "    }\n",
              "\n",
              "    .dataframe thead th {\n",
              "        text-align: right;\n",
              "    }\n",
              "</style>\n",
              "<table border=\"1\" class=\"dataframe\">\n",
              "  <thead>\n",
              "    <tr style=\"text-align: right;\">\n",
              "      <th></th>\n",
              "      <th>attributes</th>\n",
              "      <th>min</th>\n",
              "      <th>max</th>\n",
              "      <th>range</th>\n",
              "      <th>mean</th>\n",
              "      <th>median</th>\n",
              "      <th>std</th>\n",
              "      <th>skew</th>\n",
              "      <th>kurtosis</th>\n",
              "    </tr>\n",
              "  </thead>\n",
              "  <tbody>\n",
              "    <tr>\n",
              "      <th>0</th>\n",
              "      <td>store</td>\n",
              "      <td>1.0</td>\n",
              "      <td>1115.0</td>\n",
              "      <td>1114.0</td>\n",
              "      <td>558.429727</td>\n",
              "      <td>558.0</td>\n",
              "      <td>321.908493</td>\n",
              "      <td>-0.000955</td>\n",
              "      <td>-1.200524</td>\n",
              "    </tr>\n",
              "    <tr>\n",
              "      <th>1</th>\n",
              "      <td>day_of_week</td>\n",
              "      <td>1.0</td>\n",
              "      <td>7.0</td>\n",
              "      <td>6.0</td>\n",
              "      <td>3.998341</td>\n",
              "      <td>4.0</td>\n",
              "      <td>1.997390</td>\n",
              "      <td>0.001593</td>\n",
              "      <td>-1.246873</td>\n",
              "    </tr>\n",
              "    <tr>\n",
              "      <th>2</th>\n",
              "      <td>sales</td>\n",
              "      <td>0.0</td>\n",
              "      <td>41551.0</td>\n",
              "      <td>41551.0</td>\n",
              "      <td>5773.818972</td>\n",
              "      <td>5744.0</td>\n",
              "      <td>3849.924283</td>\n",
              "      <td>0.641460</td>\n",
              "      <td>1.778375</td>\n",
              "    </tr>\n",
              "    <tr>\n",
              "      <th>3</th>\n",
              "      <td>customers</td>\n",
              "      <td>0.0</td>\n",
              "      <td>7388.0</td>\n",
              "      <td>7388.0</td>\n",
              "      <td>633.145946</td>\n",
              "      <td>609.0</td>\n",
              "      <td>464.411506</td>\n",
              "      <td>1.598650</td>\n",
              "      <td>7.091773</td>\n",
              "    </tr>\n",
              "    <tr>\n",
              "      <th>4</th>\n",
              "      <td>open</td>\n",
              "      <td>0.0</td>\n",
              "      <td>1.0</td>\n",
              "      <td>1.0</td>\n",
              "      <td>0.830107</td>\n",
              "      <td>1.0</td>\n",
              "      <td>0.375539</td>\n",
              "      <td>-1.758045</td>\n",
              "      <td>1.090723</td>\n",
              "    </tr>\n",
              "    <tr>\n",
              "      <th>5</th>\n",
              "      <td>promo</td>\n",
              "      <td>0.0</td>\n",
              "      <td>1.0</td>\n",
              "      <td>1.0</td>\n",
              "      <td>0.381515</td>\n",
              "      <td>0.0</td>\n",
              "      <td>0.485758</td>\n",
              "      <td>0.487838</td>\n",
              "      <td>-1.762018</td>\n",
              "    </tr>\n",
              "    <tr>\n",
              "      <th>6</th>\n",
              "      <td>school_holiday</td>\n",
              "      <td>0.0</td>\n",
              "      <td>1.0</td>\n",
              "      <td>1.0</td>\n",
              "      <td>0.178647</td>\n",
              "      <td>0.0</td>\n",
              "      <td>0.383056</td>\n",
              "      <td>1.677842</td>\n",
              "      <td>0.815154</td>\n",
              "    </tr>\n",
              "    <tr>\n",
              "      <th>7</th>\n",
              "      <td>competition_distance</td>\n",
              "      <td>20.0</td>\n",
              "      <td>200000.0</td>\n",
              "      <td>199980.0</td>\n",
              "      <td>5935.442677</td>\n",
              "      <td>2330.0</td>\n",
              "      <td>12547.646829</td>\n",
              "      <td>10.242344</td>\n",
              "      <td>147.789712</td>\n",
              "    </tr>\n",
              "    <tr>\n",
              "      <th>8</th>\n",
              "      <td>competition_open_since_month</td>\n",
              "      <td>1.0</td>\n",
              "      <td>12.0</td>\n",
              "      <td>11.0</td>\n",
              "      <td>6.786849</td>\n",
              "      <td>7.0</td>\n",
              "      <td>3.311085</td>\n",
              "      <td>-0.042076</td>\n",
              "      <td>-1.232607</td>\n",
              "    </tr>\n",
              "    <tr>\n",
              "      <th>9</th>\n",
              "      <td>competition_open_since_year</td>\n",
              "      <td>1900.0</td>\n",
              "      <td>2015.0</td>\n",
              "      <td>115.0</td>\n",
              "      <td>2010.324840</td>\n",
              "      <td>2012.0</td>\n",
              "      <td>5.515591</td>\n",
              "      <td>-7.235657</td>\n",
              "      <td>124.071304</td>\n",
              "    </tr>\n",
              "    <tr>\n",
              "      <th>10</th>\n",
              "      <td>promo2</td>\n",
              "      <td>0.0</td>\n",
              "      <td>1.0</td>\n",
              "      <td>1.0</td>\n",
              "      <td>0.500564</td>\n",
              "      <td>1.0</td>\n",
              "      <td>0.500000</td>\n",
              "      <td>-0.002255</td>\n",
              "      <td>-1.999999</td>\n",
              "    </tr>\n",
              "    <tr>\n",
              "      <th>11</th>\n",
              "      <td>promo2_since_week</td>\n",
              "      <td>1.0</td>\n",
              "      <td>52.0</td>\n",
              "      <td>51.0</td>\n",
              "      <td>23.619033</td>\n",
              "      <td>22.0</td>\n",
              "      <td>14.310057</td>\n",
              "      <td>0.178723</td>\n",
              "      <td>-1.184046</td>\n",
              "    </tr>\n",
              "    <tr>\n",
              "      <th>12</th>\n",
              "      <td>promo2_since_year</td>\n",
              "      <td>2009.0</td>\n",
              "      <td>2015.0</td>\n",
              "      <td>6.0</td>\n",
              "      <td>2012.793297</td>\n",
              "      <td>2013.0</td>\n",
              "      <td>1.662657</td>\n",
              "      <td>-0.784436</td>\n",
              "      <td>-0.210075</td>\n",
              "    </tr>\n",
              "    <tr>\n",
              "      <th>13</th>\n",
              "      <td>is_promo</td>\n",
              "      <td>0.0</td>\n",
              "      <td>1.0</td>\n",
              "      <td>1.0</td>\n",
              "      <td>0.158682</td>\n",
              "      <td>0.0</td>\n",
              "      <td>0.365380</td>\n",
              "      <td>1.868295</td>\n",
              "      <td>1.490527</td>\n",
              "    </tr>\n",
              "  </tbody>\n",
              "</table>\n",
              "</div>"
            ],
            "text/plain": [
              "                      attributes     min  ...       skew    kurtosis\n",
              "0                          store     1.0  ...  -0.000955   -1.200524\n",
              "1                    day_of_week     1.0  ...   0.001593   -1.246873\n",
              "2                          sales     0.0  ...   0.641460    1.778375\n",
              "3                      customers     0.0  ...   1.598650    7.091773\n",
              "4                           open     0.0  ...  -1.758045    1.090723\n",
              "5                          promo     0.0  ...   0.487838   -1.762018\n",
              "6                 school_holiday     0.0  ...   1.677842    0.815154\n",
              "7           competition_distance    20.0  ...  10.242344  147.789712\n",
              "8   competition_open_since_month     1.0  ...  -0.042076   -1.232607\n",
              "9    competition_open_since_year  1900.0  ...  -7.235657  124.071304\n",
              "10                        promo2     0.0  ...  -0.002255   -1.999999\n",
              "11             promo2_since_week     1.0  ...   0.178723   -1.184046\n",
              "12             promo2_since_year  2009.0  ...  -0.784436   -0.210075\n",
              "13                      is_promo     0.0  ...   1.868295    1.490527\n",
              "\n",
              "[14 rows x 9 columns]"
            ]
          },
          "metadata": {
            "tags": []
          },
          "execution_count": 71
        }
      ]
    },
    {
      "cell_type": "code",
      "metadata": {
        "id": "uH4z0hyP1wrA",
        "colab": {
          "base_uri": "https://localhost:8080/",
          "height": 0
        },
        "outputId": "b0aa1b48-d0a0-4092-fdc1-bfb34c65f1d1"
      },
      "source": [
        "sns.distplot( df1['sales'])"
      ],
      "execution_count": 72,
      "outputs": [
        {
          "output_type": "stream",
          "text": [
            "/usr/local/lib/python3.7/dist-packages/seaborn/distributions.py:2557: FutureWarning: `distplot` is a deprecated function and will be removed in a future version. Please adapt your code to use either `displot` (a figure-level function with similar flexibility) or `histplot` (an axes-level function for histograms).\n",
            "  warnings.warn(msg, FutureWarning)\n"
          ],
          "name": "stderr"
        },
        {
          "output_type": "execute_result",
          "data": {
            "text/plain": [
              "<matplotlib.axes._subplots.AxesSubplot at 0x7f9ea4dc4e50>"
            ]
          },
          "metadata": {
            "tags": []
          },
          "execution_count": 72
        },
        {
          "output_type": "display_data",
          "data": {
            "image/png": "[encoded data removed]",
            "text/plain": [
              "<Figure size 432x288 with 1 Axes>"
            ]
          },
          "metadata": {
            "tags": [],
            "needs_background": "light"
          }
        }
      ]
    },
    {
      "cell_type": "markdown",
      "metadata": {
        "id": "3kA806qD4Eeh"
      },
      "source": [
        "#### 1.7.2 Categorical Attributes"
      ]
    },
    {
      "cell_type": "code",
      "metadata": {
        "id": "5kbtmkpC4Ifi",
        "colab": {
          "base_uri": "https://localhost:8080/"
        },
        "outputId": "3ff45e77-86aa-4f09-e99d-c4aa0c53f42e"
      },
      "source": [
        "cat_attributes.apply( lambda x: x.unique().shape[0] )"
      ],
      "execution_count": 73,
      "outputs": [
        {
          "output_type": "execute_result",
          "data": {
            "text/plain": [
              "state_holiday      4\n",
              "store_type         4\n",
              "assortment         3\n",
              "promo_interval     4\n",
              "month_map         12\n",
              "dtype: int64"
            ]
          },
          "metadata": {
            "tags": []
          },
          "execution_count": 73
        }
      ]
    },
    {
      "cell_type": "code",
      "metadata": {
        "id": "uXj8WP454Wq5",
        "colab": {
          "base_uri": "https://localhost:8080/",
          "height": 0
        },
        "outputId": "aad804d3-c018-4eee-e657-19dc54e160e3"
      },
      "source": [
        "aux1 = df1[(df1['state_holiday'] != '0') & (df1['sales'] > 0)]\r\n",
        "\r\n",
        "plt.subplot( 1, 3, 1)\r\n",
        "sns.boxplot( x = 'state_holiday', y = 'sales', data = aux1)\r\n",
        "\r\n",
        "plt.subplot( 1, 3, 2)\r\n",
        "sns.boxplot( x = 'store_type', y = 'sales', data = aux1)\r\n",
        "\r\n",
        "plt.subplot( 1, 3, 3)\r\n",
        "sns.boxplot( x = 'assortment', y = 'sales', data = aux1)"
      ],
      "execution_count": 74,
      "outputs": [
        {
          "output_type": "execute_result",
          "data": {
            "text/plain": [
              "<matplotlib.axes._subplots.AxesSubplot at 0x7f9ea543ae50>"
            ]
          },
          "metadata": {
            "tags": []
          },
          "execution_count": 74
        },
        {
          "output_type": "display_data",
          "data": {
            "image/png": "[encoded data removed]",
            "text/plain": [
              "<Figure size 432x288 with 3 Axes>"
            ]
          },
          "metadata": {
            "tags": [],
            "needs_background": "light"
          }
        }
      ]
    },
    {
      "cell_type": "markdown",
      "metadata": {
        "id": "Zx2N3yDvYP2N"
      },
      "source": [
        "### 1.8"
      ]
    },
    {
      "cell_type": "markdown",
      "metadata": {
        "id": "Zce5gxvzcqcy"
      },
      "source": [
        "# 2.0 PASSO 02 - FEATURE ENGINEERING"
      ]
    },
    {
      "cell_type": "code",
      "metadata": {
        "id": "OZiUKfYLolUB"
      },
      "source": [
        "df2 = df1.copy()"
      ],
      "execution_count": 75,
      "outputs": []
    },
    {
      "cell_type": "markdown",
      "metadata": {
        "id": "bNfc0aVyzHY-"
      },
      "source": [
        "## 2.1 Mapa Mental de Hipóteses"
      ]
    },
    {
      "cell_type": "code",
      "metadata": {
        "id": "NgRBAqZ8c0OY",
        "colab": {
          "base_uri": "https://localhost:8080/",
          "height": 0
        },
        "outputId": "789d3350-0406-4b2e-b7bc-b702d38bf204"
      },
      "source": [
        "Image('/content/MindMapHypotesis.png')"
      ],
      "execution_count": 76,
      "outputs": [
        {
          "output_type": "execute_result",
          "data": {
            "image/png": "/content/MindMapHypotesis.png",
            "text/plain": [
              "<IPython.core.display.Image object>"
            ]
          },
          "metadata": {
            "tags": []
          },
          "execution_count": 76
        }
      ]
    },
    {
      "cell_type": "markdown",
      "metadata": {
        "id": "1JEM-IjazNZj"
      },
      "source": [
        "## 2.2 Criação das Hipóteses"
      ]
    },
    {
      "cell_type": "markdown",
      "metadata": {
        "id": "oBFh4IAn3zh-"
      },
      "source": [
        "Este passo geralmente acontece na reunião de brainstorming, onde se trazem os times de negócio para a realização das perguntas. Por ex, perguntar quais variáveis eles acham que afetam as vendas."
      ]
    },
    {
      "cell_type": "markdown",
      "metadata": {
        "id": "8n9dj3r6zU1j"
      },
      "source": [
        "### 2.1.1 Hipóteses Loja"
      ]
    },
    {
      "cell_type": "markdown",
      "metadata": {
        "id": "r1Z2MIoVzl8v"
      },
      "source": [
        "**1.** Lojas com maior número de funcionários deveriam vender mais.\r\n",
        "\r\n",
        "**2.** Lojas com maior capacidade de estoque deveriam vender mais.\r\n",
        "\r\n",
        "**3.** Lojas de maior porte deveriam vender mais.\r\n",
        "\r\n",
        "**4.** Lojas com menor porte deveriam vender menos.\r\n",
        "\r\n",
        "**5.** Lojas com maior sortimento deveriam vender mais.\r\n",
        "\r\n",
        "**6.** Lojas com mais competidores deveriam vender menos.\r\n",
        "\r\n",
        "**7.** Lojas com competidores mais próximos deveriam vender menos.\r\n",
        "\r\n",
        "**8.** Lojas com competidores à mais tempo deveriam vender mais.\r\n",
        "\r\n",
        "etc"
      ]
    },
    {
      "cell_type": "markdown",
      "metadata": {
        "id": "blt4pdYjzX-b"
      },
      "source": [
        "### 2.1.2 Hipóteses Produto"
      ]
    },
    {
      "cell_type": "markdown",
      "metadata": {
        "id": "fgNoyPqn2bH1"
      },
      "source": [
        "**1.** Lojas que investem mais em marketing deveriam vender mais.\r\n",
        "\r\n",
        "**2.** Lojas com maior exposição de produtos nas vitrines deveriam vender mais.\r\n",
        "\r\n",
        "**3.** Lojas que tem preços menores nos produtos deveriam vender mais.\r\n",
        "\r\n",
        "**4.** Lojas que tem preços menores por mais tempo nos produtos deveriam vender mais.\r\n",
        "\r\n",
        "**5.** Lojas com promoções mais agressivas (descontos maiores) deveriam vender mais.\r\n",
        "\r\n",
        "**6.** Lojas com mais dias de promoção deveriam vender mais.\r\n",
        "\r\n",
        "**7.** Lojas com mais promoções consecutivas deveriam vender mais.\r\n",
        "\r\n",
        "**8.** Lojas com promoções ativas por mais tempo deveriam vender mais.\r\n",
        "\r\n",
        "etc"
      ]
    },
    {
      "cell_type": "markdown",
      "metadata": {
        "id": "nATqN3fpzZ1B"
      },
      "source": [
        "### 2.1.3 Hipóteses Tempo"
      ]
    },
    {
      "cell_type": "markdown",
      "metadata": {
        "id": "BRXkxNyG3Y6r"
      },
      "source": [
        "**1.** Lojas que entram em mais feriados deveriam vender menos.\r\n",
        "\r\n",
        "**2.** Lojas que abrem nos primeiros 6 meses deveriam vender mais.\r\n",
        "\r\n",
        "**3.** Lojas que abrem nos finais de semana deveriam vender mais.\r\n",
        "\r\n",
        "**4.** Lojas abertas durante o feriado de Natal deveriam vender mais.\r\n",
        "\r\n",
        "**5.** Lojas deveriam vender mais ao longo dos anos.\r\n",
        "\r\n",
        "**6.** Lojas deveriam vender mais no segundo semestre do ano.\r\n",
        "\r\n",
        "**7.** Lojas deveriam vender menos durante os feriados escolares.\r\n",
        "\r\n",
        "**8.** Lojas deveriam vender mais depois do dia 10 de cada mês.\r\n",
        "\r\n",
        "etc"
      ]
    },
    {
      "cell_type": "markdown",
      "metadata": {
        "id": "dJ446UEm6GSl"
      },
      "source": [
        "## 2.3 Lista Final de Hipóteses"
      ]
    },
    {
      "cell_type": "markdown",
      "metadata": {
        "id": "pZKd3rP27E2b"
      },
      "source": [
        "Nesta etapa, é visto quais dados temos nos datasets (por ex, não temos o número de funcionários para trabalhar no momento) e então, selecionadas as hipóteses que trabalharemos."
      ]
    },
    {
      "cell_type": "markdown",
      "metadata": {
        "id": "m6MmdLRm7WXE"
      },
      "source": [
        "**1.** Lojas com maior sortimento deveriam vender mais.\r\n",
        "\r\n",
        "**2.** Lojas com competidores mais próximos deveriam vender menos.\r\n",
        "\r\n",
        "**3.** Lojas com competidores à mais tempo deveriam vender mais.\r\n",
        "\r\n",
        "**4.** Lojas com promoções ativas por mais tempo deveriam vender mais.\r\n",
        "\r\n",
        "**5.** Lojas com mais dias de promoção deveriam vender mais.\r\n",
        "\r\n",
        "**6.** Lojas com mais promoções consecutivas deveriam vender mais.\r\n",
        "\r\n",
        "**7.** Lojas abertas durante o feriado de Natal deveriam vender mais.\r\n",
        "\r\n",
        "**8.** Lojas deveriam vender mais ao longo dos anos.\r\n",
        "\r\n",
        "**9.** Lojas deveriam vender mais no segundo semestre do ano.\r\n",
        "\r\n",
        "**10.** Lojas deveriam vender menos durante os feriados escolares.\r\n",
        "\r\n",
        "**11.** Lojas deveriam vender mais depois do dia 10 de cada mês.\r\n",
        "\r\n",
        "**12.** Lojas deveriam vender menos durante os feriados escolares."
      ]
    },
    {
      "cell_type": "markdown",
      "metadata": {
        "id": "yah0aKa6o9Mi"
      },
      "source": [
        "## Feature Engineering"
      ]
    },
    {
      "cell_type": "code",
      "metadata": {
        "colab": {
          "base_uri": "https://localhost:8080/"
        },
        "id": "iqstdv9ipBS3",
        "outputId": "dfb020a8-44ad-446c-939e-726568c57acb"
      },
      "source": [
        "\r\n",
        "\r\n",
        "# year\r\n",
        "df2['year'] = df2['date'].dt.year\r\n",
        "\r\n",
        "# month\r\n",
        "df2['month'] = df2['date'].dt.month\r\n",
        "\r\n",
        "# day\r\n",
        "df2['day'] = df2['date'].dt.day\r\n",
        "\r\n",
        "# week of year\r\n",
        "df2['week_of_year'] = df2['date'].dt.weekofyear\r\n",
        "\r\n",
        "# year week\r\n",
        "df2['year_week'] = df2['date'].dt.strftime( '%Y-%W' )\r\n",
        "\r\n",
        "# competition since\r\n",
        "df2['competition_since'] = df2.apply( lambda x: datetime.datetime( year=x['competition_open_since_year'], month=x['competition_open_since_month'],day=1 ), axis=1 )\r\n",
        "df2['competition_time_month'] = ( ( df2['date'] - df2['competition_since'] )/30 ).apply( lambda x: x.days ).astype( int )\r\n",
        "\r\n",
        "# promo since\r\n",
        "df2['promo_since'] = df2['promo2_since_year'].astype( str ) + '-' + df2['promo2_since_week'].astype( str )\r\n",
        "df2['promo_since'] = df2['promo_since'].apply( lambda x: datetime.datetime.strptime( x + '-1', '%Y-%W-%w' ) - datetime.timedelta( days=7 ) )\r\n",
        "df2['promo_time_week'] = ( ( df2['date'] - df2['promo_since'] )/7 ).apply( lambda x: x.days ).astype( int )\r\n",
        "\r\n",
        "# assortment\r\n",
        "df2['assortment'] = df2['assortment'].apply( lambda x: 'basic' if x == 'a' else 'extra' if x == 'b' else 'extended' )\r\n",
        "\r\n",
        "# state holiday\r\n",
        "df2['state_holiday'] = df2['state_holiday'].apply( lambda x: 'public_holiday' if x == 'a' else 'easter_holiday' if x == 'b' else 'christmas' if x == 'c' else 'regular_day' )"
      ],
      "execution_count": 77,
      "outputs": [
        {
          "output_type": "stream",
          "text": [
            "/usr/local/lib/python3.7/dist-packages/ipykernel_launcher.py:13: FutureWarning: Series.dt.weekofyear and Series.dt.week have been deprecated.  Please use Series.dt.isocalendar().week instead.\n",
            "  del sys.path[0]\n"
          ],
          "name": "stderr"
        }
      ]
    },
    {
      "cell_type": "code",
      "metadata": {
        "colab": {
          "base_uri": "https://localhost:8080/",
          "height": 0
        },
        "id": "tiJoop0kp6wC",
        "outputId": "15a29847-c007-4451-e9d0-0f27c8b8e119"
      },
      "source": [
        "df2.head().T"
      ],
      "execution_count": 78,
      "outputs": [
        {
          "output_type": "execute_result",
          "data": {
            "text/html": [
              "<div>\n",
              "<style scoped>\n",
              "    .dataframe tbody tr th:only-of-type {\n",
              "        vertical-align: middle;\n",
              "    }\n",
              "\n",
              "    .dataframe tbody tr th {\n",
              "        vertical-align: top;\n",
              "    }\n",
              "\n",
              "    .dataframe thead th {\n",
              "        text-align: right;\n",
              "    }\n",
              "</style>\n",
              "<table border=\"1\" class=\"dataframe\">\n",
              "  <thead>\n",
              "    <tr style=\"text-align: right;\">\n",
              "      <th></th>\n",
              "      <th>0</th>\n",
              "      <th>1</th>\n",
              "      <th>2</th>\n",
              "      <th>3</th>\n",
              "      <th>4</th>\n",
              "    </tr>\n",
              "  </thead>\n",
              "  <tbody>\n",
              "    <tr>\n",
              "      <th>store</th>\n",
              "      <td>1</td>\n",
              "      <td>2</td>\n",
              "      <td>3</td>\n",
              "      <td>4</td>\n",
              "      <td>5</td>\n",
              "    </tr>\n",
              "    <tr>\n",
              "      <th>day_of_week</th>\n",
              "      <td>5</td>\n",
              "      <td>5</td>\n",
              "      <td>5</td>\n",
              "      <td>5</td>\n",
              "      <td>5</td>\n",
              "    </tr>\n",
              "    <tr>\n",
              "      <th>date</th>\n",
              "      <td>2015-07-31 00:00:00</td>\n",
              "      <td>2015-07-31 00:00:00</td>\n",
              "      <td>2015-07-31 00:00:00</td>\n",
              "      <td>2015-07-31 00:00:00</td>\n",
              "      <td>2015-07-31 00:00:00</td>\n",
              "    </tr>\n",
              "    <tr>\n",
              "      <th>sales</th>\n",
              "      <td>5263</td>\n",
              "      <td>6064</td>\n",
              "      <td>8314</td>\n",
              "      <td>13995</td>\n",
              "      <td>4822</td>\n",
              "    </tr>\n",
              "    <tr>\n",
              "      <th>customers</th>\n",
              "      <td>555</td>\n",
              "      <td>625</td>\n",
              "      <td>821</td>\n",
              "      <td>1498</td>\n",
              "      <td>559</td>\n",
              "    </tr>\n",
              "    <tr>\n",
              "      <th>open</th>\n",
              "      <td>1</td>\n",
              "      <td>1</td>\n",
              "      <td>1</td>\n",
              "      <td>1</td>\n",
              "      <td>1</td>\n",
              "    </tr>\n",
              "    <tr>\n",
              "      <th>promo</th>\n",
              "      <td>1</td>\n",
              "      <td>1</td>\n",
              "      <td>1</td>\n",
              "      <td>1</td>\n",
              "      <td>1</td>\n",
              "    </tr>\n",
              "    <tr>\n",
              "      <th>state_holiday</th>\n",
              "      <td>regular_day</td>\n",
              "      <td>regular_day</td>\n",
              "      <td>regular_day</td>\n",
              "      <td>regular_day</td>\n",
              "      <td>regular_day</td>\n",
              "    </tr>\n",
              "    <tr>\n",
              "      <th>school_holiday</th>\n",
              "      <td>1</td>\n",
              "      <td>1</td>\n",
              "      <td>1</td>\n",
              "      <td>1</td>\n",
              "      <td>1</td>\n",
              "    </tr>\n",
              "    <tr>\n",
              "      <th>store_type</th>\n",
              "      <td>c</td>\n",
              "      <td>a</td>\n",
              "      <td>a</td>\n",
              "      <td>c</td>\n",
              "      <td>a</td>\n",
              "    </tr>\n",
              "    <tr>\n",
              "      <th>assortment</th>\n",
              "      <td>basic</td>\n",
              "      <td>basic</td>\n",
              "      <td>basic</td>\n",
              "      <td>extended</td>\n",
              "      <td>basic</td>\n",
              "    </tr>\n",
              "    <tr>\n",
              "      <th>competition_distance</th>\n",
              "      <td>1270</td>\n",
              "      <td>570</td>\n",
              "      <td>14130</td>\n",
              "      <td>620</td>\n",
              "      <td>29910</td>\n",
              "    </tr>\n",
              "    <tr>\n",
              "      <th>competition_open_since_month</th>\n",
              "      <td>9</td>\n",
              "      <td>11</td>\n",
              "      <td>12</td>\n",
              "      <td>9</td>\n",
              "      <td>4</td>\n",
              "    </tr>\n",
              "    <tr>\n",
              "      <th>competition_open_since_year</th>\n",
              "      <td>2008</td>\n",
              "      <td>2007</td>\n",
              "      <td>2006</td>\n",
              "      <td>2009</td>\n",
              "      <td>2015</td>\n",
              "    </tr>\n",
              "    <tr>\n",
              "      <th>promo2</th>\n",
              "      <td>0</td>\n",
              "      <td>1</td>\n",
              "      <td>1</td>\n",
              "      <td>0</td>\n",
              "      <td>0</td>\n",
              "    </tr>\n",
              "    <tr>\n",
              "      <th>promo2_since_week</th>\n",
              "      <td>31</td>\n",
              "      <td>13</td>\n",
              "      <td>14</td>\n",
              "      <td>31</td>\n",
              "      <td>31</td>\n",
              "    </tr>\n",
              "    <tr>\n",
              "      <th>promo2_since_year</th>\n",
              "      <td>2015</td>\n",
              "      <td>2010</td>\n",
              "      <td>2011</td>\n",
              "      <td>2015</td>\n",
              "      <td>2015</td>\n",
              "    </tr>\n",
              "    <tr>\n",
              "      <th>promo_interval</th>\n",
              "      <td>0</td>\n",
              "      <td>Jan,Apr,Jul,Oct</td>\n",
              "      <td>Jan,Apr,Jul,Oct</td>\n",
              "      <td>0</td>\n",
              "      <td>0</td>\n",
              "    </tr>\n",
              "    <tr>\n",
              "      <th>month_map</th>\n",
              "      <td>Jul</td>\n",
              "      <td>Jul</td>\n",
              "      <td>Jul</td>\n",
              "      <td>Jul</td>\n",
              "      <td>Jul</td>\n",
              "    </tr>\n",
              "    <tr>\n",
              "      <th>is_promo</th>\n",
              "      <td>0</td>\n",
              "      <td>1</td>\n",
              "      <td>1</td>\n",
              "      <td>0</td>\n",
              "      <td>0</td>\n",
              "    </tr>\n",
              "    <tr>\n",
              "      <th>year</th>\n",
              "      <td>2015</td>\n",
              "      <td>2015</td>\n",
              "      <td>2015</td>\n",
              "      <td>2015</td>\n",
              "      <td>2015</td>\n",
              "    </tr>\n",
              "    <tr>\n",
              "      <th>month</th>\n",
              "      <td>7</td>\n",
              "      <td>7</td>\n",
              "      <td>7</td>\n",
              "      <td>7</td>\n",
              "      <td>7</td>\n",
              "    </tr>\n",
              "    <tr>\n",
              "      <th>day</th>\n",
              "      <td>31</td>\n",
              "      <td>31</td>\n",
              "      <td>31</td>\n",
              "      <td>31</td>\n",
              "      <td>31</td>\n",
              "    </tr>\n",
              "    <tr>\n",
              "      <th>week_of_year</th>\n",
              "      <td>31</td>\n",
              "      <td>31</td>\n",
              "      <td>31</td>\n",
              "      <td>31</td>\n",
              "      <td>31</td>\n",
              "    </tr>\n",
              "    <tr>\n",
              "      <th>year_week</th>\n",
              "      <td>2015-30</td>\n",
              "      <td>2015-30</td>\n",
              "      <td>2015-30</td>\n",
              "      <td>2015-30</td>\n",
              "      <td>2015-30</td>\n",
              "    </tr>\n",
              "    <tr>\n",
              "      <th>competition_since</th>\n",
              "      <td>2008-09-01 00:00:00</td>\n",
              "      <td>2007-11-01 00:00:00</td>\n",
              "      <td>2006-12-01 00:00:00</td>\n",
              "      <td>2009-09-01 00:00:00</td>\n",
              "      <td>2015-04-01 00:00:00</td>\n",
              "    </tr>\n",
              "    <tr>\n",
              "      <th>competition_time_month</th>\n",
              "      <td>84</td>\n",
              "      <td>94</td>\n",
              "      <td>105</td>\n",
              "      <td>71</td>\n",
              "      <td>4</td>\n",
              "    </tr>\n",
              "    <tr>\n",
              "      <th>promo_since</th>\n",
              "      <td>2015-07-27 00:00:00</td>\n",
              "      <td>2010-03-22 00:00:00</td>\n",
              "      <td>2011-03-28 00:00:00</td>\n",
              "      <td>2015-07-27 00:00:00</td>\n",
              "      <td>2015-07-27 00:00:00</td>\n",
              "    </tr>\n",
              "    <tr>\n",
              "      <th>promo_time_week</th>\n",
              "      <td>0</td>\n",
              "      <td>279</td>\n",
              "      <td>226</td>\n",
              "      <td>0</td>\n",
              "      <td>0</td>\n",
              "    </tr>\n",
              "  </tbody>\n",
              "</table>\n",
              "</div>"
            ],
            "text/plain": [
              "                                                0  ...                    4\n",
              "store                                           1  ...                    5\n",
              "day_of_week                                     5  ...                    5\n",
              "date                          2015-07-31 00:00:00  ...  2015-07-31 00:00:00\n",
              "sales                                        5263  ...                 4822\n",
              "customers                                     555  ...                  559\n",
              "open                                            1  ...                    1\n",
              "promo                                           1  ...                    1\n",
              "state_holiday                         regular_day  ...          regular_day\n",
              "school_holiday                                  1  ...                    1\n",
              "store_type                                      c  ...                    a\n",
              "assortment                                  basic  ...                basic\n",
              "competition_distance                         1270  ...                29910\n",
              "competition_open_since_month                    9  ...                    4\n",
              "competition_open_since_year                  2008  ...                 2015\n",
              "promo2                                          0  ...                    0\n",
              "promo2_since_week                              31  ...                   31\n",
              "promo2_since_year                            2015  ...                 2015\n",
              "promo_interval                                  0  ...                    0\n",
              "month_map                                     Jul  ...                  Jul\n",
              "is_promo                                        0  ...                    0\n",
              "year                                         2015  ...                 2015\n",
              "month                                           7  ...                    7\n",
              "day                                            31  ...                   31\n",
              "week_of_year                                   31  ...                   31\n",
              "year_week                                 2015-30  ...              2015-30\n",
              "competition_since             2008-09-01 00:00:00  ...  2015-04-01 00:00:00\n",
              "competition_time_month                         84  ...                    4\n",
              "promo_since                   2015-07-27 00:00:00  ...  2015-07-27 00:00:00\n",
              "promo_time_week                                 0  ...                    0\n",
              "\n",
              "[29 rows x 5 columns]"
            ]
          },
          "metadata": {
            "tags": []
          },
          "execution_count": 78
        }
      ]
    },
    {
      "cell_type": "markdown",
      "metadata": {
        "id": "XlumoNVS2BFL"
      },
      "source": [
        "# 3.0 PASSO 03 - FILTRAGEM DE VARIÁVEIS"
      ]
    },
    {
      "cell_type": "code",
      "metadata": {
        "id": "HPUsC4jh2G18"
      },
      "source": [
        "df3 = df2.copy()"
      ],
      "execution_count": 79,
      "outputs": []
    },
    {
      "cell_type": "code",
      "metadata": {
        "colab": {
          "base_uri": "https://localhost:8080/",
          "height": 0
        },
        "id": "Z8lknc0W2c1C",
        "outputId": "90b3347d-989e-4c40-cbc5-08e7b0948013"
      },
      "source": [
        "df3.head()"
      ],
      "execution_count": 80,
      "outputs": [
        {
          "output_type": "execute_result",
          "data": {
            "text/html": [
              "<div>\n",
              "<style scoped>\n",
              "    .dataframe tbody tr th:only-of-type {\n",
              "        vertical-align: middle;\n",
              "    }\n",
              "\n",
              "    .dataframe tbody tr th {\n",
              "        vertical-align: top;\n",
              "    }\n",
              "\n",
              "    .dataframe thead th {\n",
              "        text-align: right;\n",
              "    }\n",
              "</style>\n",
              "<table border=\"1\" class=\"dataframe\">\n",
              "  <thead>\n",
              "    <tr style=\"text-align: right;\">\n",
              "      <th></th>\n",
              "      <th>store</th>\n",
              "      <th>day_of_week</th>\n",
              "      <th>date</th>\n",
              "      <th>sales</th>\n",
              "      <th>customers</th>\n",
              "      <th>open</th>\n",
              "      <th>promo</th>\n",
              "      <th>state_holiday</th>\n",
              "      <th>school_holiday</th>\n",
              "      <th>store_type</th>\n",
              "      <th>assortment</th>\n",
              "      <th>competition_distance</th>\n",
              "      <th>competition_open_since_month</th>\n",
              "      <th>competition_open_since_year</th>\n",
              "      <th>promo2</th>\n",
              "      <th>promo2_since_week</th>\n",
              "      <th>promo2_since_year</th>\n",
              "      <th>promo_interval</th>\n",
              "      <th>month_map</th>\n",
              "      <th>is_promo</th>\n",
              "      <th>year</th>\n",
              "      <th>month</th>\n",
              "      <th>day</th>\n",
              "      <th>week_of_year</th>\n",
              "      <th>year_week</th>\n",
              "      <th>competition_since</th>\n",
              "      <th>competition_time_month</th>\n",
              "      <th>promo_since</th>\n",
              "      <th>promo_time_week</th>\n",
              "    </tr>\n",
              "  </thead>\n",
              "  <tbody>\n",
              "    <tr>\n",
              "      <th>0</th>\n",
              "      <td>1</td>\n",
              "      <td>5</td>\n",
              "      <td>2015-07-31</td>\n",
              "      <td>5263</td>\n",
              "      <td>555</td>\n",
              "      <td>1</td>\n",
              "      <td>1</td>\n",
              "      <td>regular_day</td>\n",
              "      <td>1</td>\n",
              "      <td>c</td>\n",
              "      <td>basic</td>\n",
              "      <td>1270.0</td>\n",
              "      <td>9</td>\n",
              "      <td>2008</td>\n",
              "      <td>0</td>\n",
              "      <td>31</td>\n",
              "      <td>2015</td>\n",
              "      <td>0</td>\n",
              "      <td>Jul</td>\n",
              "      <td>0</td>\n",
              "      <td>2015</td>\n",
              "      <td>7</td>\n",
              "      <td>31</td>\n",
              "      <td>31</td>\n",
              "      <td>2015-30</td>\n",
              "      <td>2008-09-01</td>\n",
              "      <td>84</td>\n",
              "      <td>2015-07-27</td>\n",
              "      <td>0</td>\n",
              "    </tr>\n",
              "    <tr>\n",
              "      <th>1</th>\n",
              "      <td>2</td>\n",
              "      <td>5</td>\n",
              "      <td>2015-07-31</td>\n",
              "      <td>6064</td>\n",
              "      <td>625</td>\n",
              "      <td>1</td>\n",
              "      <td>1</td>\n",
              "      <td>regular_day</td>\n",
              "      <td>1</td>\n",
              "      <td>a</td>\n",
              "      <td>basic</td>\n",
              "      <td>570.0</td>\n",
              "      <td>11</td>\n",
              "      <td>2007</td>\n",
              "      <td>1</td>\n",
              "      <td>13</td>\n",
              "      <td>2010</td>\n",
              "      <td>Jan,Apr,Jul,Oct</td>\n",
              "      <td>Jul</td>\n",
              "      <td>1</td>\n",
              "      <td>2015</td>\n",
              "      <td>7</td>\n",
              "      <td>31</td>\n",
              "      <td>31</td>\n",
              "      <td>2015-30</td>\n",
              "      <td>2007-11-01</td>\n",
              "      <td>94</td>\n",
              "      <td>2010-03-22</td>\n",
              "      <td>279</td>\n",
              "    </tr>\n",
              "    <tr>\n",
              "      <th>2</th>\n",
              "      <td>3</td>\n",
              "      <td>5</td>\n",
              "      <td>2015-07-31</td>\n",
              "      <td>8314</td>\n",
              "      <td>821</td>\n",
              "      <td>1</td>\n",
              "      <td>1</td>\n",
              "      <td>regular_day</td>\n",
              "      <td>1</td>\n",
              "      <td>a</td>\n",
              "      <td>basic</td>\n",
              "      <td>14130.0</td>\n",
              "      <td>12</td>\n",
              "      <td>2006</td>\n",
              "      <td>1</td>\n",
              "      <td>14</td>\n",
              "      <td>2011</td>\n",
              "      <td>Jan,Apr,Jul,Oct</td>\n",
              "      <td>Jul</td>\n",
              "      <td>1</td>\n",
              "      <td>2015</td>\n",
              "      <td>7</td>\n",
              "      <td>31</td>\n",
              "      <td>31</td>\n",
              "      <td>2015-30</td>\n",
              "      <td>2006-12-01</td>\n",
              "      <td>105</td>\n",
              "      <td>2011-03-28</td>\n",
              "      <td>226</td>\n",
              "    </tr>\n",
              "    <tr>\n",
              "      <th>3</th>\n",
              "      <td>4</td>\n",
              "      <td>5</td>\n",
              "      <td>2015-07-31</td>\n",
              "      <td>13995</td>\n",
              "      <td>1498</td>\n",
              "      <td>1</td>\n",
              "      <td>1</td>\n",
              "      <td>regular_day</td>\n",
              "      <td>1</td>\n",
              "      <td>c</td>\n",
              "      <td>extended</td>\n",
              "      <td>620.0</td>\n",
              "      <td>9</td>\n",
              "      <td>2009</td>\n",
              "      <td>0</td>\n",
              "      <td>31</td>\n",
              "      <td>2015</td>\n",
              "      <td>0</td>\n",
              "      <td>Jul</td>\n",
              "      <td>0</td>\n",
              "      <td>2015</td>\n",
              "      <td>7</td>\n",
              "      <td>31</td>\n",
              "      <td>31</td>\n",
              "      <td>2015-30</td>\n",
              "      <td>2009-09-01</td>\n",
              "      <td>71</td>\n",
              "      <td>2015-07-27</td>\n",
              "      <td>0</td>\n",
              "    </tr>\n",
              "    <tr>\n",
              "      <th>4</th>\n",
              "      <td>5</td>\n",
              "      <td>5</td>\n",
              "      <td>2015-07-31</td>\n",
              "      <td>4822</td>\n",
              "      <td>559</td>\n",
              "      <td>1</td>\n",
              "      <td>1</td>\n",
              "      <td>regular_day</td>\n",
              "      <td>1</td>\n",
              "      <td>a</td>\n",
              "      <td>basic</td>\n",
              "      <td>29910.0</td>\n",
              "      <td>4</td>\n",
              "      <td>2015</td>\n",
              "      <td>0</td>\n",
              "      <td>31</td>\n",
              "      <td>2015</td>\n",
              "      <td>0</td>\n",
              "      <td>Jul</td>\n",
              "      <td>0</td>\n",
              "      <td>2015</td>\n",
              "      <td>7</td>\n",
              "      <td>31</td>\n",
              "      <td>31</td>\n",
              "      <td>2015-30</td>\n",
              "      <td>2015-04-01</td>\n",
              "      <td>4</td>\n",
              "      <td>2015-07-27</td>\n",
              "      <td>0</td>\n",
              "    </tr>\n",
              "  </tbody>\n",
              "</table>\n",
              "</div>"
            ],
            "text/plain": [
              "   store  day_of_week  ... promo_since  promo_time_week\n",
              "0      1            5  ...  2015-07-27                0\n",
              "1      2            5  ...  2010-03-22              279\n",
              "2      3            5  ...  2011-03-28              226\n",
              "3      4            5  ...  2015-07-27                0\n",
              "4      5            5  ...  2015-07-27                0\n",
              "\n",
              "[5 rows x 29 columns]"
            ]
          },
          "metadata": {
            "tags": []
          },
          "execution_count": 80
        }
      ]
    },
    {
      "cell_type": "markdown",
      "metadata": {
        "id": "dfIxw2pz2Pi0"
      },
      "source": [
        "## 3.1 Filtragem das linhas"
      ]
    },
    {
      "cell_type": "code",
      "metadata": {
        "id": "47jXK0k1236V"
      },
      "source": [
        "#Selecionando somente as lojas abertas\r\n",
        "\r\n",
        "df3 = df3[(df3['open'] != 0) & (df3['sales'] > 0)]"
      ],
      "execution_count": 81,
      "outputs": []
    },
    {
      "cell_type": "markdown",
      "metadata": {
        "id": "RJQ-I6TC2TvP"
      },
      "source": [
        "## 3.2 Filtragem das colunas"
      ]
    },
    {
      "cell_type": "code",
      "metadata": {
        "id": "wedqa7QX3v4h"
      },
      "source": [
        "#Dropando as colunas que não queremos\r\n",
        "\r\n",
        "cols_drop = ['customers', 'open', 'promo_interval', 'month_map']\r\n",
        "df3 = df3.drop( cols_drop, axis = 1)"
      ],
      "execution_count": 82,
      "outputs": []
    },
    {
      "cell_type": "code",
      "metadata": {
        "colab": {
          "base_uri": "https://localhost:8080/"
        },
        "id": "XxYate7J4ETQ",
        "outputId": "5782be71-9e3e-4d58-8d61-7ef2dcf056b5"
      },
      "source": [
        "df3.columns"
      ],
      "execution_count": 83,
      "outputs": [
        {
          "output_type": "execute_result",
          "data": {
            "text/plain": [
              "Index(['store', 'day_of_week', 'date', 'sales', 'promo', 'state_holiday',\n",
              "       'school_holiday', 'store_type', 'assortment', 'competition_distance',\n",
              "       'competition_open_since_month', 'competition_open_since_year', 'promo2',\n",
              "       'promo2_since_week', 'promo2_since_year', 'is_promo', 'year', 'month',\n",
              "       'day', 'week_of_year', 'year_week', 'competition_since',\n",
              "       'competition_time_month', 'promo_since', 'promo_time_week'],\n",
              "      dtype='object')"
            ]
          },
          "metadata": {
            "tags": []
          },
          "execution_count": 83
        }
      ]
    },
    {
      "cell_type": "markdown",
      "metadata": {
        "id": "yCw7ObLyR51Y"
      },
      "source": [
        "# 4.0 PASSO 04 - ANÁLISE EXPLORATÓRIA DOS DADOS "
      ]
    },
    {
      "cell_type": "code",
      "metadata": {
        "id": "Gyp3jA1ZR5dX"
      },
      "source": [
        "df4 = df3.copy()"
      ],
      "execution_count": 84,
      "outputs": []
    },
    {
      "cell_type": "markdown",
      "metadata": {
        "id": "2FhmPAPvShfZ"
      },
      "source": [
        "## 4.1 Análise Univariada"
      ]
    },
    {
      "cell_type": "markdown",
      "metadata": {
        "id": "zDgZkz2rSqEW"
      },
      "source": [
        "### 4.1.1 Response Variable"
      ]
    },
    {
      "cell_type": "code",
      "metadata": {
        "colab": {
          "base_uri": "https://localhost:8080/",
          "height": 0
        },
        "id": "JmfYF1lHSz9W",
        "outputId": "dd41cfce-56cf-405c-8c4f-3a1a67cd1682"
      },
      "source": [
        "sns.distplot(df4['sales'])"
      ],
      "execution_count": 85,
      "outputs": [
        {
          "output_type": "stream",
          "text": [
            "/usr/local/lib/python3.7/dist-packages/seaborn/distributions.py:2557: FutureWarning: `distplot` is a deprecated function and will be removed in a future version. Please adapt your code to use either `displot` (a figure-level function with similar flexibility) or `histplot` (an axes-level function for histograms).\n",
            "  warnings.warn(msg, FutureWarning)\n"
          ],
          "name": "stderr"
        },
        {
          "output_type": "execute_result",
          "data": {
            "text/plain": [
              "<matplotlib.axes._subplots.AxesSubplot at 0x7f9ea55aa750>"
            ]
          },
          "metadata": {
            "tags": []
          },
          "execution_count": 85
        },
        {
          "output_type": "display_data",
          "data": {
            "image/png": "[encoded data removed]",
            "text/plain": [
              "<Figure size 432x288 with 1 Axes>"
            ]
          },
          "metadata": {
            "tags": [],
            "needs_background": "light"
          }
        }
      ]
    },
    {
      "cell_type": "markdown",
      "metadata": {
        "id": "XLmcoT_cStqx"
      },
      "source": [
        "### 4.1.2 Numerical Variable"
      ]
    },
    {
      "cell_type": "code",
      "metadata": {
        "id": "v9QgQ-XYU6Ua"
      },
      "source": [
        "#Mudando o tamanho dos gráficos no Jupyter\r\n",
        "\r\n",
        "# %matplotlib inline\r\n",
        "# %pylab inline\r\n",
        "# plt.style.use( 'bmh' )\r\n",
        "# plt.rcParams['figure.figsize'] = [25, 12]\r\n",
        "# plt.rcParams['font.size'] = 24\r\n",
        "# display( HTML( '<style>.container { width:100% !important; }</style>') )\r\n",
        "# pd.options.display.max_columns = None\r\n",
        "# pd.options.display.max_rows = None\r\n",
        "# pd.set_option( 'display.expand_frame_repr', False )"
      ],
      "execution_count": 86,
      "outputs": []
    },
    {
      "cell_type": "markdown",
      "metadata": {
        "id": "Th08yopxWBKR"
      },
      "source": [
        ""
      ]
    },
    {
      "cell_type": "code",
      "metadata": {
        "colab": {
          "base_uri": "https://localhost:8080/",
          "height": 270
        },
        "id": "UoP5ZAAUTh3p",
        "outputId": "bfcb9bc9-a859-4b0b-e59d-938d67734527"
      },
      "source": [
        "matplotlib.rcParams.update({'font.size': 5})\r\n",
        "num_attributes.hist(bins = 25);\r\n",
        "\r\n",
        "#Repare que variáveis como day_of_week passam a mensagem de que, como não há variação,\r\n",
        "#as vendas não mudam de acordo com os dias da semana."
      ],
      "execution_count": 96,
      "outputs": [
        {
          "output_type": "display_data",
          "data": {
            "image/png": "[encoded data removed]",
            "text/plain": [
              "<Figure size 432x288 with 16 Axes>"
            ]
          },
          "metadata": {
            "tags": [],
            "needs_background": "light"
          }
        }
      ]
    },
    {
      "cell_type": "markdown",
      "metadata": {
        "id": "_Q75msEFSwjr"
      },
      "source": [
        "### 4.1.3 Categorical Variable"
      ]
    },
    {
      "cell_type": "code",
      "metadata": {
        "colab": {
          "base_uri": "https://localhost:8080/"
        },
        "id": "uC5gRhUhXt6V",
        "outputId": "381e63aa-5665-426e-e871-824522637b1e"
      },
      "source": [
        "# cat_attributes.head()\r\n",
        "\r\n",
        "df4['state_holiday'].drop_duplicates()"
      ],
      "execution_count": 88,
      "outputs": [
        {
          "output_type": "execute_result",
          "data": {
            "text/plain": [
              "0            regular_day\n",
              "63559     public_holiday\n",
              "129424    easter_holiday\n",
              "241126         christmas\n",
              "Name: state_holiday, dtype: object"
            ]
          },
          "metadata": {
            "tags": []
          },
          "execution_count": 88
        }
      ]
    },
    {
      "cell_type": "code",
      "metadata": {
        "colab": {
          "base_uri": "https://localhost:8080/",
          "height": 414
        },
        "id": "TdAugOhBYZdQ",
        "outputId": "c513c0d0-4887-4f5d-8955-f8faa0ebd1f1"
      },
      "source": [
        "# state_holiday\r\n",
        "plt.subplot( 3, 2, 1 )\r\n",
        "a = df4[df4['state_holiday'] != 'regular_day']\r\n",
        "sns.countplot( a['state_holiday'] )\r\n",
        "\r\n",
        "plt.subplot( 3, 2, 2 )\r\n",
        "sns.kdeplot( df4[df4['state_holiday'] == 'public_holiday']['sales'], label='public_holiday', shade=True )\r\n",
        "sns.kdeplot( df4[df4['state_holiday'] == 'easter_holiday']['sales'], label='easter_holiday', shade=True )\r\n",
        "sns.kdeplot( df4[df4['state_holiday'] == 'christmas']['sales'], label='christmas', shade=True )\r\n",
        "\r\n",
        "# store_type\r\n",
        "plt.subplot( 3, 2, 3 )\r\n",
        "sns.countplot( df4['store_type'] )\r\n",
        "\r\n",
        "plt.subplot( 3, 2, 4 )\r\n",
        "sns.kdeplot( df4[df4['store_type'] == 'a']['sales'], label='a', shade=True )\r\n",
        "sns.kdeplot( df4[df4['store_type'] == 'b']['sales'], label='b', shade=True )\r\n",
        "sns.kdeplot( df4[df4['store_type'] == 'c']['sales'], label='c', shade=True )\r\n",
        "sns.kdeplot( df4[df4['store_type'] == 'd']['sales'], label='d', shade=True )\r\n",
        "\r\n",
        "# assortment\r\n",
        "plt.subplot( 3, 2, 5 )\r\n",
        "sns.countplot( df4['assortment'] )\r\n",
        "\r\n",
        "plt.subplot( 3, 2, 6 )\r\n",
        "sns.kdeplot( df4[df4['assortment'] == 'extended']['sales'], label='extended', shade=True )\r\n",
        "sns.kdeplot( df4[df4['assortment'] == 'basic']['sales'], label='basic', shade=True )\r\n",
        "sns.kdeplot( df4[df4['assortment'] == 'extra']['sales'], label='extra', shade=True )"
      ],
      "execution_count": 89,
      "outputs": [
        {
          "output_type": "stream",
          "text": [
            "/usr/local/lib/python3.7/dist-packages/seaborn/_decorators.py:43: FutureWarning: Pass the following variable as a keyword arg: x. From version 0.12, the only valid positional argument will be `data`, and passing other arguments without an explicit keyword will result in an error or misinterpretation.\n",
            "  FutureWarning\n",
            "/usr/local/lib/python3.7/dist-packages/seaborn/_decorators.py:43: FutureWarning: Pass the following variable as a keyword arg: x. From version 0.12, the only valid positional argument will be `data`, and passing other arguments without an explicit keyword will result in an error or misinterpretation.\n",
            "  FutureWarning\n",
            "/usr/local/lib/python3.7/dist-packages/seaborn/_decorators.py:43: FutureWarning: Pass the following variable as a keyword arg: x. From version 0.12, the only valid positional argument will be `data`, and passing other arguments without an explicit keyword will result in an error or misinterpretation.\n",
            "  FutureWarning\n"
          ],
          "name": "stderr"
        },
        {
          "output_type": "execute_result",
          "data": {
            "text/plain": [
              "<matplotlib.axes._subplots.AxesSubplot at 0x7f9e9710aa90>"
            ]
          },
          "metadata": {
            "tags": []
          },
          "execution_count": 89
        },
        {
          "output_type": "display_data",
          "data": {
            "image/png": "[encoded data removed]",
            "text/plain": [
              "<Figure size 432x288 with 6 Axes>"
            ]
          },
          "metadata": {
            "tags": [],
            "needs_background": "light"
          }
        }
      ]
    },
    {
      "cell_type": "markdown",
      "metadata": {
        "id": "BXIj4ImISktM"
      },
      "source": [
        "## 4.2 Análise Bivariada"
      ]
    },
    {
      "cell_type": "markdown",
      "metadata": {
        "id": "PP1OJIO2sndh"
      },
      "source": [
        "### H1. Lojas com maior sortimento deveriam vender mais.\r\n",
        "-Falsa. Lojas com MAIS SORTIMENTO vendem MENOS.\r\n"
      ]
    },
    {
      "cell_type": "code",
      "metadata": {
        "id": "XTNKN5IQtQnS",
        "colab": {
          "base_uri": "https://localhost:8080/",
          "height": 0
        },
        "outputId": "b7e0e588-780d-4198-9e5f-3c848b8a72af"
      },
      "source": [
        "\r\n",
        "\r\n",
        "aux1 = df4[['assortment', 'sales']].groupby( 'assortment' ).sum().reset_index()\r\n",
        "sns.barplot( x='assortment', y='sales', data=aux1 );\r\n",
        "\r\n",
        "aux2 = df4[['year_week', 'assortment', 'sales']].groupby( ['year_week','assortment'] ).sum().reset_index()\r\n",
        "aux2.pivot( index='year_week', columns='assortment', values='sales' ).plot()\r\n",
        "\r\n",
        "aux3 = aux2[aux2['assortment'] == 'extra']\r\n",
        "aux3.pivot( index='year_week', columns='assortment', values='sales' ).plot()\r\n",
        "\r\n",
        "\r\n",
        "#Note como também podemos analisar mais profundamente a feature para ver se não há erros na análise da hipótese;\r\n",
        "#Como extra é menor, negamos a hipótese."
      ],
      "execution_count": 90,
      "outputs": [
        {
          "output_type": "execute_result",
          "data": {
            "text/plain": [
              "<matplotlib.axes._subplots.AxesSubplot at 0x7f9e96f97fd0>"
            ]
          },
          "metadata": {
            "tags": []
          },
          "execution_count": 90
        },
        {
          "output_type": "display_data",
          "data": {
            "image/png": "[encoded data removed]",
            "text/plain": [
              "<Figure size 432x288 with 1 Axes>"
            ]
          },
          "metadata": {
            "tags": [],
            "needs_background": "light"
          }
        },
        {
          "output_type": "display_data",
          "data": {
            "image/png": "[encoded data removed]",
            "text/plain": [
              "<Figure size 432x288 with 1 Axes>"
            ]
          },
          "metadata": {
            "tags": [],
            "needs_background": "light"
          }
        },
        {
          "output_type": "display_data",
          "data": {
            "image/png": "[encoded data removed]",
            "text/plain": [
              "<Figure size 432x288 with 1 Axes>"
            ]
          },
          "metadata": {
            "tags": [],
            "needs_background": "light"
          }
        }
      ]
    },
    {
      "cell_type": "code",
      "metadata": {
        "id": "4uUYEeDjucm0",
        "colab": {
          "base_uri": "https://localhost:8080/",
          "height": 0
        },
        "outputId": "559f64f9-3217-4f77-f46f-1d3c53923151"
      },
      "source": [
        "aux1 = df4[['assortment', 'sales']].groupby('assortment').sum().reset_index()\r\n",
        "sns.barplot(x = 'assortment', y = 'sales', data = aux1);"
      ],
      "execution_count": 91,
      "outputs": [
        {
          "output_type": "display_data",
          "data": {
            "image/png": "[encoded data removed]",
            "text/plain": [
              "<Figure size 432x288 with 1 Axes>"
            ]
          },
          "metadata": {
            "tags": [],
            "needs_background": "light"
          }
        }
      ]
    },
    {
      "cell_type": "markdown",
      "metadata": {
        "id": "p8xvYgaes7Kj"
      },
      "source": [
        "### H2. Lojas com competidores mais próximos deveriam vender menos.\r\n",
        "-Falsa. Lojas com COMPETIDORES MAIS PRÓXIMOS vendem MAIS."
      ]
    },
    {
      "cell_type": "code",
      "metadata": {
        "id": "2_EpaxEU9KMk",
        "colab": {
          "base_uri": "https://localhost:8080/",
          "height": 0
        },
        "outputId": "ebe14bb0-2354-41c3-b0fb-b6484ce9e75f"
      },
      "source": [
        "aux1 = df4[['competition_distance', 'sales']].groupby( 'competition_distance' ).sum().reset_index()\r\n",
        "\r\n",
        "plt.subplot( 1, 3, 1 )\r\n",
        "sns.scatterplot( x ='competition_distance', y='sales', data=aux1 );\r\n",
        "\r\n",
        "plt.subplot( 1, 3, 2 )\r\n",
        "bins = list( np.arange( 0, 20000, 1000) )\r\n",
        "aux1['competition_distance_binned'] = pd.cut( aux1['competition_distance'], bins=bins )\r\n",
        "aux2 = aux1[['competition_distance_binned', 'sales']].groupby( 'competition_distance_binned' ).sum().reset_index()\r\n",
        "sns.barplot( x='competition_distance_binned', y='sales', data=aux2 );\r\n",
        "plt.xticks( rotation=90 );\r\n",
        "\r\n",
        "#Plotando a força da correlação, no caso a correção de pearson;\r\n",
        "#Lembre-se que quanto mais próxima de 0, mais fraca é a correlação; quanto mais\r\n",
        "#próxima de 1 ou -1, mais forte.\r\n",
        "\r\n",
        "plt.subplot( 1, 3, 3 )\r\n",
        "x = sns.heatmap( aux1.corr( method='pearson' ), annot=True );\r\n",
        "bottom, top = x.get_ylim()\r\n",
        "x.set_ylim( bottom+0.5, top-0.5 );\r\n",
        "\r\n",
        "#Note como temos o insight de que competidores mas próximos aumentam as vendas, em vez de diminuir."
      ],
      "execution_count": 92,
      "outputs": [
        {
          "output_type": "display_data",
          "data": {
            "image/png": "[encoded data removed]",
            "text/plain": [
              "<Figure size 432x288 with 4 Axes>"
            ]
          },
          "metadata": {
            "tags": [],
            "needs_background": "light"
          }
        }
      ]
    },
    {
      "cell_type": "markdown",
      "metadata": {
        "id": "T1Qsk7yDtAjH"
      },
      "source": [
        "### H3. Lojas com competidores à mais tempo deveriam vender mais.\r\n",
        "FALSA Lojas com promocoes ativas por mais tempo vendem menos, depois de um certo periodo de promocao."
      ]
    },
    {
      "cell_type": "code",
      "metadata": {
        "id": "lkEgY__QEJA8",
        "colab": {
          "base_uri": "https://localhost:8080/",
          "height": 282
        },
        "outputId": "e29edadd-3b45-45b2-c935-4e26a588c182"
      },
      "source": [
        "plt.subplot( 1, 3, 1 )\r\n",
        "aux1 = df4[['competition_time_month', 'sales']].groupby( 'competition_time_month' ).sum().reset_index()\r\n",
        "aux2 = aux1[( aux1['competition_time_month'] < 120 ) & ( aux1['competition_time_month'] != 0 )]\r\n",
        "sns.barplot( x='competition_time_month', y='sales', data=aux2 );\r\n",
        "plt.xticks( rotation=90 );\r\n",
        "\r\n",
        "plt.subplot( 1, 3, 2 )\r\n",
        "sns.regplot( x='competition_time_month', y='sales', data=aux2 );\r\n",
        "\r\n",
        "plt.subplot( 1, 3, 3 )\r\n",
        "x = sns.heatmap( aux1.corr( method='pearson'), annot=True );\r\n",
        "bottom, top = x.get_ylim()\r\n",
        "x.set_ylim( bottom+0.5, top-0.5);"
      ],
      "execution_count": 93,
      "outputs": [
        {
          "output_type": "display_data",
          "data": {
            "image/png": "[encoded data removed]",
            "text/plain": [
              "<Figure size 432x288 with 4 Axes>"
            ]
          },
          "metadata": {
            "tags": [],
            "needs_background": "light"
          }
        }
      ]
    },
    {
      "cell_type": "markdown",
      "metadata": {
        "id": "rYNB-YeCyA0n"
      },
      "source": [
        "### H4. Lojas com promoções ativas por mais tempo deveriam vender mais.\r\n",
        "FALSA. Lojas com promocoes ativas por mais tempo vendem menos, depois de um certo periodo de promocao"
      ]
    },
    {
      "cell_type": "code",
      "metadata": {
        "colab": {
          "base_uri": "https://localhost:8080/",
          "height": 283
        },
        "id": "1Uk7u1nOyMOL",
        "outputId": "1b7580f9-fdaf-49f6-e85d-77d524d28bc4"
      },
      "source": [
        "aux1 = df4[['promo_time_week', 'sales']].groupby( 'promo_time_week').sum().reset_index()\r\n",
        "\r\n",
        "grid = gridspec.GridSpec( 2, 3)\r\n",
        "\r\n",
        "plt.subplot( grid[0,0] )\r\n",
        "aux2 = aux1[aux1['promo_time_week'] > 0] # promo extendido\r\n",
        "sns.barplot( x='promo_time_week', y='sales', data=aux2 );\r\n",
        "plt.xticks( rotation=90 );\r\n",
        "\r\n",
        "plt.subplot( grid[0,1] )\r\n",
        "sns.regplot( x='promo_time_week', y='sales', data=aux2 );\r\n",
        "\r\n",
        "plt.subplot( grid[1,0] )\r\n",
        "aux3 = aux1[aux1['promo_time_week'] < 0] # promo regular\r\n",
        "sns.barplot( x='promo_time_week', y='sales', data=aux3 );\r\n",
        "plt.xticks( rotation=90 );\r\n",
        "\r\n",
        "plt.subplot( grid[1,1] )\r\n",
        "sns.regplot( x='promo_time_week', y='sales', data=aux3 );\r\n",
        "\r\n",
        "#calculando a correlação utilizando a formula de pearson\r\n",
        "\r\n",
        "plt.subplot( grid[:,2] )\r\n",
        "sns.heatmap( aux1.corr( method='pearson' ), annot=True );\r\n"
      ],
      "execution_count": 107,
      "outputs": [
        {
          "output_type": "display_data",
          "data": {
            "image/png": "[encoded data removed]",
            "text/plain": [
              "<Figure size 432x288 with 6 Axes>"
            ]
          },
          "metadata": {
            "tags": [],
            "needs_background": "light"
          }
        }
      ]
    },
    {
      "cell_type": "markdown",
      "metadata": {
        "id": "0_-O_z1X0QVI"
      },
      "source": [
        "### H7. Lojas com mais promoções consecutivas deveriam vender mais.\r\n",
        "FALSA Lojas com mais promocoes consecutivas vendem menos"
      ]
    },
    {
      "cell_type": "code",
      "metadata": {
        "id": "JSWNtnAW0SOg"
      },
      "source": [
        "df4[['promo', 'promo2', 'sales']].groupby( ['promo', 'promo2'] ).sum().reset_index()"
      ],
      "execution_count": null,
      "outputs": []
    },
    {
      "cell_type": "code",
      "metadata": {
        "id": "70U6ZVL-0Vuo"
      },
      "source": [
        "aux1 = df4[( df4['promo'] == 1 ) & ( df4['promo2'] == 1 )][['year_week', 'sales']].groupby( 'year_week' ).sum().reset_index()\r\n",
        "ax = aux1.plot()\r\n",
        "\r\n",
        "aux2 = df4[( df4['promo'] == 1 ) & ( df4['promo2'] == 0 )][['year_week', 'sales']].groupby( 'year_week' ).sum().reset_index()\r\n",
        "aux2.plot( ax=ax )\r\n",
        "\r\n",
        "ax.legend( labels=['Tradicional & Extendida', 'Extendida']);"
      ],
      "execution_count": null,
      "outputs": []
    },
    {
      "cell_type": "markdown",
      "metadata": {
        "id": "dbGz9eCG0W2k"
      },
      "source": [
        "### H8. Lojas abertas durante o feriado de Natal deveriam vender mais.¶\r\n",
        "FALSA Lojas abertas durante o feriado do Natal vendem menos."
      ]
    },
    {
      "cell_type": "code",
      "metadata": {
        "id": "lH31rOGM0YhZ"
      },
      "source": [
        "aux = df4[df4['state_holiday'] != 'regular_day']\r\n",
        "\r\n",
        "plt.subplot( 1, 2, 1 )\r\n",
        "aux1 = aux[['state_holiday', 'sales']].groupby( 'state_holiday' ).sum().reset_index()\r\n",
        "sns.barplot( x='state_holiday', y='sales', data=aux1 );\r\n",
        "\r\n",
        "plt.subplot( 1, 2, 2 )\r\n",
        "aux2 = aux[['year', 'state_holiday', 'sales']].groupby( ['year', 'state_holiday'] ).sum().reset_index()\r\n",
        "sns.barplot( x='year', y='sales', hue='state_holiday', data=aux2 );"
      ],
      "execution_count": null,
      "outputs": []
    },
    {
      "cell_type": "markdown",
      "metadata": {
        "id": "4nWkcQtj0ZqE"
      },
      "source": [
        "### H9. Lojas deveriam vender mais ao longo dos anos.\r\n",
        "FALSA Lojas vendem menos ao longo dos anos"
      ]
    },
    {
      "cell_type": "code",
      "metadata": {
        "id": "RVIf8_jA0a9R"
      },
      "source": [
        "aux1 = df4[['year', 'sales']].groupby( 'year' ).sum().reset_index()\r\n",
        "\r\n",
        "plt.subplot( 1, 3, 1 )\r\n",
        "sns.barplot( x='year', y='sales', data=aux1 );\r\n",
        "\r\n",
        "plt.subplot( 1, 3, 2 )\r\n",
        "sns.regplot( x='year', y='sales', data=aux1 );\r\n",
        "\r\n",
        "plt.subplot( 1, 3, 3 )\r\n",
        "sns.heatmap( aux1.corr( method='pearson' ), annot=True );"
      ],
      "execution_count": null,
      "outputs": []
    },
    {
      "cell_type": "markdown",
      "metadata": {
        "id": "oJfU_LpI0cH0"
      },
      "source": [
        "### H10. Lojas deveriam vender mais no segundo semestre do ano.\r\n",
        "FALSA Lojas vendem menos no segundo semestre do ano"
      ]
    },
    {
      "cell_type": "code",
      "metadata": {
        "id": "EggXsFqx0d63"
      },
      "source": [
        "aux1 = df4[['month', 'sales']].groupby( 'month' ).sum().reset_index()\r\n",
        "\r\n",
        "plt.subplot( 1, 3, 1 )\r\n",
        "sns.barplot( x='month', y='sales', data=aux1 );\r\n",
        "\r\n",
        "plt.subplot( 1, 3, 2 )\r\n",
        "sns.regplot( x='month', y='sales', data=aux1 );\r\n",
        "\r\n",
        "plt.subplot( 1, 3, 3 )\r\n",
        "sns.heatmap( aux1.corr( method='pearson' ), annot=True );"
      ],
      "execution_count": null,
      "outputs": []
    },
    {
      "cell_type": "markdown",
      "metadata": {
        "id": "jWrqL6kf0f17"
      },
      "source": [
        "### H11. Lojas deveriam vender mais depois do dia 10 de cada mês.\r\n",
        "VERDADEIRA Lojas vendem mais depois do dia 10 de cada mes."
      ]
    },
    {
      "cell_type": "code",
      "metadata": {
        "id": "2xZcy-ug0iYK"
      },
      "source": [
        "aux1 = df4[['day', 'sales']].groupby( 'day' ).sum().reset_index()\r\n",
        "\r\n",
        "plt.subplot( 2, 2, 1 )\r\n",
        "sns.barplot( x='day', y='sales', data=aux1 );\r\n",
        "\r\n",
        "plt.subplot( 2, 2, 2 )\r\n",
        "sns.regplot( x='day', y='sales', data=aux1 );\r\n",
        "\r\n",
        "plt.subplot( 2, 2, 3 )\r\n",
        "sns.heatmap( aux1.corr( method='pearson' ), annot=True );\r\n",
        "\r\n",
        "aux1['before_after'] = aux1['day'].apply( lambda x: 'before_10_days' if x <= 10 else 'after_10_days' )\r\n",
        "aux2 =aux1[['before_after', 'sales']].groupby( 'before_after' ).sum().reset_index()\r\n",
        "\r\n",
        "plt.subplot( 2, 2, 4 )\r\n",
        "sns.barplot( x='before_after', y='sales', data=aux2 );"
      ],
      "execution_count": null,
      "outputs": []
    },
    {
      "cell_type": "markdown",
      "metadata": {
        "id": "W0jhoxyR0jkz"
      },
      "source": [
        "### H12. Lojas deveriam vender menos aos finais de semana.¶\r\n",
        "VERDADEIRA Lojas vendem menos nos final de semana"
      ]
    },
    {
      "cell_type": "code",
      "metadata": {
        "id": "Br9s-xzX0lCq"
      },
      "source": [
        "aux1 = df4[['day_of_week', 'sales']].groupby( 'day_of_week' ).sum().reset_index()\r\n",
        "\r\n",
        "plt.subplot( 1, 3, 1 )\r\n",
        "sns.barplot( x='day_of_week', y='sales', data=aux1 );\r\n",
        "\r\n",
        "plt.subplot( 1, 3, 2 )\r\n",
        "sns.regplot( x='day_of_week', y='sales', data=aux1 );\r\n",
        "\r\n",
        "plt.subplot( 1, 3, 3 )\r\n",
        "sns.heatmap( aux1.corr( method='pearson' ), annot=True );"
      ],
      "execution_count": null,
      "outputs": []
    },
    {
      "cell_type": "markdown",
      "metadata": {
        "id": "AcdC06f_0mNC"
      },
      "source": [
        "### H13. Lojas deveriam vender menos durante os feriados escolares.\r\n",
        "VERDADEIRA Lojas vendem menos durante os feriadso escolares, except os meses de Julho e Agosto."
      ]
    },
    {
      "cell_type": "code",
      "metadata": {
        "id": "ISf7350y0oTr"
      },
      "source": [
        "aux1 = df4[['school_holiday', 'sales']].groupby( 'school_holiday' ).sum().reset_index()\r\n",
        "plt.subplot( 2, 1, 1 )\r\n",
        "sns.barplot( x='school_holiday', y='sales', data=aux1 );\r\n",
        "\r\n",
        "aux2 = df4[['month', 'school_holiday', 'sales']].groupby( ['month','school_holiday'] ).sum().reset_index()\r\n",
        "plt.subplot( 2, 1, 2 )\r\n",
        "sns.barplot( x='month', y='sales', hue='school_holiday', data=aux2 );"
      ],
      "execution_count": null,
      "outputs": []
    },
    {
      "cell_type": "markdown",
      "metadata": {
        "id": "YPsA-FGxSm66"
      },
      "source": [
        "## 4.3 Análise Multivariada"
      ]
    }
  ]
}